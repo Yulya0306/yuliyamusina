{
 "cells": [
  {
   "cell_type": "code",
   "execution_count": 248,
   "metadata": {},
   "outputs": [],
   "source": [
    "from pylab import rcParams\n",
    "rcParams['figure.figsize'] = 10,7\n",
    "import pandas as pd\n",
    "import matplotlib.pyplot as plt\n",
    "import numpy as np"
   ]
  },
  {
   "cell_type": "code",
   "execution_count": 249,
   "metadata": {},
   "outputs": [
    {
     "name": "stdout",
     "output_type": "stream",
     "text": [
      "(437, 11)\n"
     ]
    }
   ],
   "source": [
    "film = pd.read_csv('blockbusters.csv')\n",
    "print(film.shape)"
   ]
  },
  {
   "cell_type": "code",
   "execution_count": 250,
   "metadata": {},
   "outputs": [
    {
     "name": "stdout",
     "output_type": "stream",
     "text": [
      "<class 'pandas.core.frame.DataFrame'>\n",
      "RangeIndex: 437 entries, 0 to 436\n",
      "Data columns (total 11 columns):\n",
      " #   Column           Non-Null Count  Dtype  \n",
      "---  ------           --------------  -----  \n",
      " 0   Main_Genre       437 non-null    object \n",
      " 1   Genre_2          408 non-null    object \n",
      " 2   Genre_3          296 non-null    object \n",
      " 3   imdb_rating      437 non-null    float64\n",
      " 4   length           437 non-null    int64  \n",
      " 5   rank_in_year     437 non-null    int64  \n",
      " 6   rating           437 non-null    object \n",
      " 7   studio           437 non-null    object \n",
      " 8   title            437 non-null    object \n",
      " 9   worldwide_gross  437 non-null    object \n",
      " 10  year             437 non-null    int64  \n",
      "dtypes: float64(1), int64(3), object(7)\n",
      "memory usage: 37.7+ KB\n"
     ]
    }
   ],
   "source": [
    "film.info()"
   ]
  },
  {
   "cell_type": "code",
   "execution_count": 251,
   "metadata": {},
   "outputs": [
    {
     "data": {
      "text/html": [
       "<div>\n",
       "<style scoped>\n",
       "    .dataframe tbody tr th:only-of-type {\n",
       "        vertical-align: middle;\n",
       "    }\n",
       "\n",
       "    .dataframe tbody tr th {\n",
       "        vertical-align: top;\n",
       "    }\n",
       "\n",
       "    .dataframe thead th {\n",
       "        text-align: right;\n",
       "    }\n",
       "</style>\n",
       "<table border=\"1\" class=\"dataframe\">\n",
       "  <thead>\n",
       "    <tr style=\"text-align: right;\">\n",
       "      <th></th>\n",
       "      <th>Main_Genre</th>\n",
       "      <th>Genre_2</th>\n",
       "      <th>Genre_3</th>\n",
       "      <th>imdb_rating</th>\n",
       "      <th>length</th>\n",
       "      <th>rank_in_year</th>\n",
       "      <th>rating</th>\n",
       "      <th>studio</th>\n",
       "      <th>title</th>\n",
       "      <th>worldwide_gross</th>\n",
       "      <th>year</th>\n",
       "    </tr>\n",
       "  </thead>\n",
       "  <tbody>\n",
       "    <tr>\n",
       "      <th>0</th>\n",
       "      <td>Action</td>\n",
       "      <td>Adventure</td>\n",
       "      <td>Drama</td>\n",
       "      <td>7.4</td>\n",
       "      <td>135</td>\n",
       "      <td>1</td>\n",
       "      <td>PG-13</td>\n",
       "      <td>Walt Disney Pictures</td>\n",
       "      <td>Black Panther</td>\n",
       "      <td>$700,059,566</td>\n",
       "      <td>2018</td>\n",
       "    </tr>\n",
       "    <tr>\n",
       "      <th>1</th>\n",
       "      <td>Action</td>\n",
       "      <td>Adventure</td>\n",
       "      <td>Sci-Fi</td>\n",
       "      <td>8.5</td>\n",
       "      <td>156</td>\n",
       "      <td>2</td>\n",
       "      <td>PG-13</td>\n",
       "      <td>Walt Disney Pictures</td>\n",
       "      <td>Avengers: Infinity War</td>\n",
       "      <td>$678,815,482</td>\n",
       "      <td>2018</td>\n",
       "    </tr>\n",
       "    <tr>\n",
       "      <th>2</th>\n",
       "      <td>Animation</td>\n",
       "      <td>Action</td>\n",
       "      <td>Adventure</td>\n",
       "      <td>7.8</td>\n",
       "      <td>118</td>\n",
       "      <td>3</td>\n",
       "      <td>PG</td>\n",
       "      <td>Pixar</td>\n",
       "      <td>Incredibles 2</td>\n",
       "      <td>$608,581,744</td>\n",
       "      <td>2018</td>\n",
       "    </tr>\n",
       "    <tr>\n",
       "      <th>3</th>\n",
       "      <td>Action</td>\n",
       "      <td>Adventure</td>\n",
       "      <td>Drama</td>\n",
       "      <td>6.2</td>\n",
       "      <td>129</td>\n",
       "      <td>4</td>\n",
       "      <td>PG-13</td>\n",
       "      <td>Universal Pictures</td>\n",
       "      <td>Jurassic World: Fallen Kingdom</td>\n",
       "      <td>$416,769,345</td>\n",
       "      <td>2018</td>\n",
       "    </tr>\n",
       "    <tr>\n",
       "      <th>4</th>\n",
       "      <td>Action</td>\n",
       "      <td>Comedy</td>\n",
       "      <td>NaN</td>\n",
       "      <td>7.8</td>\n",
       "      <td>119</td>\n",
       "      <td>5</td>\n",
       "      <td>R</td>\n",
       "      <td>20th Century Fox</td>\n",
       "      <td>Deadpool 2</td>\n",
       "      <td>$318,491,426</td>\n",
       "      <td>2018</td>\n",
       "    </tr>\n",
       "  </tbody>\n",
       "</table>\n",
       "</div>"
      ],
      "text/plain": [
       "  Main_Genre    Genre_2    Genre_3  imdb_rating  length  rank_in_year rating  \\\n",
       "0     Action  Adventure      Drama          7.4     135             1  PG-13   \n",
       "1     Action  Adventure     Sci-Fi          8.5     156             2  PG-13   \n",
       "2  Animation     Action  Adventure          7.8     118             3     PG   \n",
       "3     Action  Adventure      Drama          6.2     129             4  PG-13   \n",
       "4     Action     Comedy        NaN          7.8     119             5      R   \n",
       "\n",
       "                 studio                           title worldwide_gross  year  \n",
       "0  Walt Disney Pictures                   Black Panther    $700,059,566  2018  \n",
       "1  Walt Disney Pictures          Avengers: Infinity War    $678,815,482  2018  \n",
       "2                 Pixar                   Incredibles 2    $608,581,744  2018  \n",
       "3    Universal Pictures  Jurassic World: Fallen Kingdom    $416,769,345  2018  \n",
       "4      20th Century Fox                      Deadpool 2    $318,491,426  2018  "
      ]
     },
     "execution_count": 251,
     "metadata": {},
     "output_type": "execute_result"
    }
   ],
   "source": [
    "film.head()"
   ]
  },
  {
   "cell_type": "code",
   "execution_count": 252,
   "metadata": {},
   "outputs": [
    {
     "data": {
      "text/html": [
       "<div>\n",
       "<style scoped>\n",
       "    .dataframe tbody tr th:only-of-type {\n",
       "        vertical-align: middle;\n",
       "    }\n",
       "\n",
       "    .dataframe tbody tr th {\n",
       "        vertical-align: top;\n",
       "    }\n",
       "\n",
       "    .dataframe thead th {\n",
       "        text-align: right;\n",
       "    }\n",
       "</style>\n",
       "<table border=\"1\" class=\"dataframe\">\n",
       "  <thead>\n",
       "    <tr style=\"text-align: right;\">\n",
       "      <th></th>\n",
       "      <th>Main_Genre</th>\n",
       "      <th>imdb_rating</th>\n",
       "      <th>length</th>\n",
       "      <th>rank_in_year</th>\n",
       "      <th>year</th>\n",
       "    </tr>\n",
       "  </thead>\n",
       "  <tbody>\n",
       "    <tr>\n",
       "      <th>0</th>\n",
       "      <td>War</td>\n",
       "      <td>7.600000</td>\n",
       "      <td>139.700000</td>\n",
       "      <td>6.100000</td>\n",
       "      <td>1986.200000</td>\n",
       "    </tr>\n",
       "    <tr>\n",
       "      <th>1</th>\n",
       "      <td>History</td>\n",
       "      <td>7.580000</td>\n",
       "      <td>129.600000</td>\n",
       "      <td>5.000000</td>\n",
       "      <td>1988.600000</td>\n",
       "    </tr>\n",
       "    <tr>\n",
       "      <th>2</th>\n",
       "      <td>Adventure</td>\n",
       "      <td>7.438462</td>\n",
       "      <td>127.153846</td>\n",
       "      <td>3.615385</td>\n",
       "      <td>1998.153846</td>\n",
       "    </tr>\n",
       "    <tr>\n",
       "      <th>3</th>\n",
       "      <td>Animation</td>\n",
       "      <td>7.345455</td>\n",
       "      <td>98.227273</td>\n",
       "      <td>5.909091</td>\n",
       "      <td>2010.863636</td>\n",
       "    </tr>\n",
       "    <tr>\n",
       "      <th>4</th>\n",
       "      <td>Drama</td>\n",
       "      <td>7.303333</td>\n",
       "      <td>122.900000</td>\n",
       "      <td>5.233333</td>\n",
       "      <td>1990.133333</td>\n",
       "    </tr>\n",
       "    <tr>\n",
       "      <th>5</th>\n",
       "      <td>Action</td>\n",
       "      <td>7.296667</td>\n",
       "      <td>130.566667</td>\n",
       "      <td>5.100000</td>\n",
       "      <td>2013.833333</td>\n",
       "    </tr>\n",
       "    <tr>\n",
       "      <th>6</th>\n",
       "      <td>Sci-Fi</td>\n",
       "      <td>7.186000</td>\n",
       "      <td>129.580000</td>\n",
       "      <td>5.600000</td>\n",
       "      <td>2000.400000</td>\n",
       "    </tr>\n",
       "    <tr>\n",
       "      <th>7</th>\n",
       "      <td>Thriller</td>\n",
       "      <td>7.104762</td>\n",
       "      <td>124.587302</td>\n",
       "      <td>5.825397</td>\n",
       "      <td>1994.396825</td>\n",
       "    </tr>\n",
       "    <tr>\n",
       "      <th>8</th>\n",
       "      <td>Sport</td>\n",
       "      <td>7.028571</td>\n",
       "      <td>106.285714</td>\n",
       "      <td>4.142857</td>\n",
       "      <td>1981.000000</td>\n",
       "    </tr>\n",
       "    <tr>\n",
       "      <th>9</th>\n",
       "      <td>Fantasy</td>\n",
       "      <td>6.988889</td>\n",
       "      <td>128.907407</td>\n",
       "      <td>4.370370</td>\n",
       "      <td>2001.833333</td>\n",
       "    </tr>\n",
       "    <tr>\n",
       "      <th>10</th>\n",
       "      <td>Comedy</td>\n",
       "      <td>6.938182</td>\n",
       "      <td>99.400000</td>\n",
       "      <td>5.945455</td>\n",
       "      <td>1995.672727</td>\n",
       "    </tr>\n",
       "    <tr>\n",
       "      <th>11</th>\n",
       "      <td>Horror</td>\n",
       "      <td>6.875000</td>\n",
       "      <td>119.875000</td>\n",
       "      <td>6.750000</td>\n",
       "      <td>1986.500000</td>\n",
       "    </tr>\n",
       "    <tr>\n",
       "      <th>12</th>\n",
       "      <td>Romance</td>\n",
       "      <td>6.862500</td>\n",
       "      <td>118.187500</td>\n",
       "      <td>5.583333</td>\n",
       "      <td>1989.916667</td>\n",
       "    </tr>\n",
       "    <tr>\n",
       "      <th>13</th>\n",
       "      <td>Music</td>\n",
       "      <td>6.822222</td>\n",
       "      <td>116.888889</td>\n",
       "      <td>7.222222</td>\n",
       "      <td>1993.888889</td>\n",
       "    </tr>\n",
       "    <tr>\n",
       "      <th>14</th>\n",
       "      <td>Crime</td>\n",
       "      <td>6.782353</td>\n",
       "      <td>115.235294</td>\n",
       "      <td>7.058824</td>\n",
       "      <td>1989.823529</td>\n",
       "    </tr>\n",
       "  </tbody>\n",
       "</table>\n",
       "</div>"
      ],
      "text/plain": [
       "   Main_Genre  imdb_rating      length  rank_in_year         year\n",
       "0         War     7.600000  139.700000      6.100000  1986.200000\n",
       "1     History     7.580000  129.600000      5.000000  1988.600000\n",
       "2   Adventure     7.438462  127.153846      3.615385  1998.153846\n",
       "3   Animation     7.345455   98.227273      5.909091  2010.863636\n",
       "4       Drama     7.303333  122.900000      5.233333  1990.133333\n",
       "5      Action     7.296667  130.566667      5.100000  2013.833333\n",
       "6      Sci-Fi     7.186000  129.580000      5.600000  2000.400000\n",
       "7    Thriller     7.104762  124.587302      5.825397  1994.396825\n",
       "8       Sport     7.028571  106.285714      4.142857  1981.000000\n",
       "9     Fantasy     6.988889  128.907407      4.370370  2001.833333\n",
       "10     Comedy     6.938182   99.400000      5.945455  1995.672727\n",
       "11     Horror     6.875000  119.875000      6.750000  1986.500000\n",
       "12    Romance     6.862500  118.187500      5.583333  1989.916667\n",
       "13      Music     6.822222  116.888889      7.222222  1993.888889\n",
       "14      Crime     6.782353  115.235294      7.058824  1989.823529"
      ]
     },
     "execution_count": 252,
     "metadata": {},
     "output_type": "execute_result"
    }
   ],
   "source": [
    "film_top=film.groupby('Main_Genre').mean().sort_values('imdb_rating', ascending=False).head(400)\n",
    "film_top=film_top.reset_index(level=0, drop=False)\n",
    "film_top.head(15)"
   ]
  },
  {
   "cell_type": "code",
   "execution_count": 253,
   "metadata": {},
   "outputs": [
    {
     "data": {
      "text/html": [
       "<style  type=\"text/css\" >\n",
       "    #T_85c337da_0f8f_11eb_a2b9_d4bed9823f35row0_col0 {\n",
       "            background-color:  yellow;\n",
       "        }    #T_85c337da_0f8f_11eb_a2b9_d4bed9823f35row0_col1 {\n",
       "            background-color:  yellow;\n",
       "        }    #T_85c337da_0f8f_11eb_a2b9_d4bed9823f35row0_col2 {\n",
       "            background-color:  yellow;\n",
       "        }    #T_85c337da_0f8f_11eb_a2b9_d4bed9823f35row5_col4 {\n",
       "            background-color:  yellow;\n",
       "        }    #T_85c337da_0f8f_11eb_a2b9_d4bed9823f35row13_col3 {\n",
       "            background-color:  yellow;\n",
       "        }</style><table id=\"T_85c337da_0f8f_11eb_a2b9_d4bed9823f35\" ><thead>    <tr>        <th class=\"blank level0\" ></th>        <th class=\"col_heading level0 col0\" >Main_Genre</th>        <th class=\"col_heading level0 col1\" >imdb_rating</th>        <th class=\"col_heading level0 col2\" >length</th>        <th class=\"col_heading level0 col3\" >rank_in_year</th>        <th class=\"col_heading level0 col4\" >year</th>    </tr></thead><tbody>\n",
       "                <tr>\n",
       "                        <th id=\"T_85c337da_0f8f_11eb_a2b9_d4bed9823f35level0_row0\" class=\"row_heading level0 row0\" >0</th>\n",
       "                        <td id=\"T_85c337da_0f8f_11eb_a2b9_d4bed9823f35row0_col0\" class=\"data row0 col0\" >War</td>\n",
       "                        <td id=\"T_85c337da_0f8f_11eb_a2b9_d4bed9823f35row0_col1\" class=\"data row0 col1\" >7.600000</td>\n",
       "                        <td id=\"T_85c337da_0f8f_11eb_a2b9_d4bed9823f35row0_col2\" class=\"data row0 col2\" >139.700000</td>\n",
       "                        <td id=\"T_85c337da_0f8f_11eb_a2b9_d4bed9823f35row0_col3\" class=\"data row0 col3\" >6.100000</td>\n",
       "                        <td id=\"T_85c337da_0f8f_11eb_a2b9_d4bed9823f35row0_col4\" class=\"data row0 col4\" >1986.200000</td>\n",
       "            </tr>\n",
       "            <tr>\n",
       "                        <th id=\"T_85c337da_0f8f_11eb_a2b9_d4bed9823f35level0_row1\" class=\"row_heading level0 row1\" >1</th>\n",
       "                        <td id=\"T_85c337da_0f8f_11eb_a2b9_d4bed9823f35row1_col0\" class=\"data row1 col0\" >History</td>\n",
       "                        <td id=\"T_85c337da_0f8f_11eb_a2b9_d4bed9823f35row1_col1\" class=\"data row1 col1\" >7.580000</td>\n",
       "                        <td id=\"T_85c337da_0f8f_11eb_a2b9_d4bed9823f35row1_col2\" class=\"data row1 col2\" >129.600000</td>\n",
       "                        <td id=\"T_85c337da_0f8f_11eb_a2b9_d4bed9823f35row1_col3\" class=\"data row1 col3\" >5.000000</td>\n",
       "                        <td id=\"T_85c337da_0f8f_11eb_a2b9_d4bed9823f35row1_col4\" class=\"data row1 col4\" >1988.600000</td>\n",
       "            </tr>\n",
       "            <tr>\n",
       "                        <th id=\"T_85c337da_0f8f_11eb_a2b9_d4bed9823f35level0_row2\" class=\"row_heading level0 row2\" >2</th>\n",
       "                        <td id=\"T_85c337da_0f8f_11eb_a2b9_d4bed9823f35row2_col0\" class=\"data row2 col0\" >Adventure</td>\n",
       "                        <td id=\"T_85c337da_0f8f_11eb_a2b9_d4bed9823f35row2_col1\" class=\"data row2 col1\" >7.438462</td>\n",
       "                        <td id=\"T_85c337da_0f8f_11eb_a2b9_d4bed9823f35row2_col2\" class=\"data row2 col2\" >127.153846</td>\n",
       "                        <td id=\"T_85c337da_0f8f_11eb_a2b9_d4bed9823f35row2_col3\" class=\"data row2 col3\" >3.615385</td>\n",
       "                        <td id=\"T_85c337da_0f8f_11eb_a2b9_d4bed9823f35row2_col4\" class=\"data row2 col4\" >1998.153846</td>\n",
       "            </tr>\n",
       "            <tr>\n",
       "                        <th id=\"T_85c337da_0f8f_11eb_a2b9_d4bed9823f35level0_row3\" class=\"row_heading level0 row3\" >3</th>\n",
       "                        <td id=\"T_85c337da_0f8f_11eb_a2b9_d4bed9823f35row3_col0\" class=\"data row3 col0\" >Animation</td>\n",
       "                        <td id=\"T_85c337da_0f8f_11eb_a2b9_d4bed9823f35row3_col1\" class=\"data row3 col1\" >7.345455</td>\n",
       "                        <td id=\"T_85c337da_0f8f_11eb_a2b9_d4bed9823f35row3_col2\" class=\"data row3 col2\" >98.227273</td>\n",
       "                        <td id=\"T_85c337da_0f8f_11eb_a2b9_d4bed9823f35row3_col3\" class=\"data row3 col3\" >5.909091</td>\n",
       "                        <td id=\"T_85c337da_0f8f_11eb_a2b9_d4bed9823f35row3_col4\" class=\"data row3 col4\" >2010.863636</td>\n",
       "            </tr>\n",
       "            <tr>\n",
       "                        <th id=\"T_85c337da_0f8f_11eb_a2b9_d4bed9823f35level0_row4\" class=\"row_heading level0 row4\" >4</th>\n",
       "                        <td id=\"T_85c337da_0f8f_11eb_a2b9_d4bed9823f35row4_col0\" class=\"data row4 col0\" >Drama</td>\n",
       "                        <td id=\"T_85c337da_0f8f_11eb_a2b9_d4bed9823f35row4_col1\" class=\"data row4 col1\" >7.303333</td>\n",
       "                        <td id=\"T_85c337da_0f8f_11eb_a2b9_d4bed9823f35row4_col2\" class=\"data row4 col2\" >122.900000</td>\n",
       "                        <td id=\"T_85c337da_0f8f_11eb_a2b9_d4bed9823f35row4_col3\" class=\"data row4 col3\" >5.233333</td>\n",
       "                        <td id=\"T_85c337da_0f8f_11eb_a2b9_d4bed9823f35row4_col4\" class=\"data row4 col4\" >1990.133333</td>\n",
       "            </tr>\n",
       "            <tr>\n",
       "                        <th id=\"T_85c337da_0f8f_11eb_a2b9_d4bed9823f35level0_row5\" class=\"row_heading level0 row5\" >5</th>\n",
       "                        <td id=\"T_85c337da_0f8f_11eb_a2b9_d4bed9823f35row5_col0\" class=\"data row5 col0\" >Action</td>\n",
       "                        <td id=\"T_85c337da_0f8f_11eb_a2b9_d4bed9823f35row5_col1\" class=\"data row5 col1\" >7.296667</td>\n",
       "                        <td id=\"T_85c337da_0f8f_11eb_a2b9_d4bed9823f35row5_col2\" class=\"data row5 col2\" >130.566667</td>\n",
       "                        <td id=\"T_85c337da_0f8f_11eb_a2b9_d4bed9823f35row5_col3\" class=\"data row5 col3\" >5.100000</td>\n",
       "                        <td id=\"T_85c337da_0f8f_11eb_a2b9_d4bed9823f35row5_col4\" class=\"data row5 col4\" >2013.833333</td>\n",
       "            </tr>\n",
       "            <tr>\n",
       "                        <th id=\"T_85c337da_0f8f_11eb_a2b9_d4bed9823f35level0_row6\" class=\"row_heading level0 row6\" >6</th>\n",
       "                        <td id=\"T_85c337da_0f8f_11eb_a2b9_d4bed9823f35row6_col0\" class=\"data row6 col0\" >Sci-Fi</td>\n",
       "                        <td id=\"T_85c337da_0f8f_11eb_a2b9_d4bed9823f35row6_col1\" class=\"data row6 col1\" >7.186000</td>\n",
       "                        <td id=\"T_85c337da_0f8f_11eb_a2b9_d4bed9823f35row6_col2\" class=\"data row6 col2\" >129.580000</td>\n",
       "                        <td id=\"T_85c337da_0f8f_11eb_a2b9_d4bed9823f35row6_col3\" class=\"data row6 col3\" >5.600000</td>\n",
       "                        <td id=\"T_85c337da_0f8f_11eb_a2b9_d4bed9823f35row6_col4\" class=\"data row6 col4\" >2000.400000</td>\n",
       "            </tr>\n",
       "            <tr>\n",
       "                        <th id=\"T_85c337da_0f8f_11eb_a2b9_d4bed9823f35level0_row7\" class=\"row_heading level0 row7\" >7</th>\n",
       "                        <td id=\"T_85c337da_0f8f_11eb_a2b9_d4bed9823f35row7_col0\" class=\"data row7 col0\" >Thriller</td>\n",
       "                        <td id=\"T_85c337da_0f8f_11eb_a2b9_d4bed9823f35row7_col1\" class=\"data row7 col1\" >7.104762</td>\n",
       "                        <td id=\"T_85c337da_0f8f_11eb_a2b9_d4bed9823f35row7_col2\" class=\"data row7 col2\" >124.587302</td>\n",
       "                        <td id=\"T_85c337da_0f8f_11eb_a2b9_d4bed9823f35row7_col3\" class=\"data row7 col3\" >5.825397</td>\n",
       "                        <td id=\"T_85c337da_0f8f_11eb_a2b9_d4bed9823f35row7_col4\" class=\"data row7 col4\" >1994.396825</td>\n",
       "            </tr>\n",
       "            <tr>\n",
       "                        <th id=\"T_85c337da_0f8f_11eb_a2b9_d4bed9823f35level0_row8\" class=\"row_heading level0 row8\" >8</th>\n",
       "                        <td id=\"T_85c337da_0f8f_11eb_a2b9_d4bed9823f35row8_col0\" class=\"data row8 col0\" >Sport</td>\n",
       "                        <td id=\"T_85c337da_0f8f_11eb_a2b9_d4bed9823f35row8_col1\" class=\"data row8 col1\" >7.028571</td>\n",
       "                        <td id=\"T_85c337da_0f8f_11eb_a2b9_d4bed9823f35row8_col2\" class=\"data row8 col2\" >106.285714</td>\n",
       "                        <td id=\"T_85c337da_0f8f_11eb_a2b9_d4bed9823f35row8_col3\" class=\"data row8 col3\" >4.142857</td>\n",
       "                        <td id=\"T_85c337da_0f8f_11eb_a2b9_d4bed9823f35row8_col4\" class=\"data row8 col4\" >1981.000000</td>\n",
       "            </tr>\n",
       "            <tr>\n",
       "                        <th id=\"T_85c337da_0f8f_11eb_a2b9_d4bed9823f35level0_row9\" class=\"row_heading level0 row9\" >9</th>\n",
       "                        <td id=\"T_85c337da_0f8f_11eb_a2b9_d4bed9823f35row9_col0\" class=\"data row9 col0\" >Fantasy</td>\n",
       "                        <td id=\"T_85c337da_0f8f_11eb_a2b9_d4bed9823f35row9_col1\" class=\"data row9 col1\" >6.988889</td>\n",
       "                        <td id=\"T_85c337da_0f8f_11eb_a2b9_d4bed9823f35row9_col2\" class=\"data row9 col2\" >128.907407</td>\n",
       "                        <td id=\"T_85c337da_0f8f_11eb_a2b9_d4bed9823f35row9_col3\" class=\"data row9 col3\" >4.370370</td>\n",
       "                        <td id=\"T_85c337da_0f8f_11eb_a2b9_d4bed9823f35row9_col4\" class=\"data row9 col4\" >2001.833333</td>\n",
       "            </tr>\n",
       "            <tr>\n",
       "                        <th id=\"T_85c337da_0f8f_11eb_a2b9_d4bed9823f35level0_row10\" class=\"row_heading level0 row10\" >10</th>\n",
       "                        <td id=\"T_85c337da_0f8f_11eb_a2b9_d4bed9823f35row10_col0\" class=\"data row10 col0\" >Comedy</td>\n",
       "                        <td id=\"T_85c337da_0f8f_11eb_a2b9_d4bed9823f35row10_col1\" class=\"data row10 col1\" >6.938182</td>\n",
       "                        <td id=\"T_85c337da_0f8f_11eb_a2b9_d4bed9823f35row10_col2\" class=\"data row10 col2\" >99.400000</td>\n",
       "                        <td id=\"T_85c337da_0f8f_11eb_a2b9_d4bed9823f35row10_col3\" class=\"data row10 col3\" >5.945455</td>\n",
       "                        <td id=\"T_85c337da_0f8f_11eb_a2b9_d4bed9823f35row10_col4\" class=\"data row10 col4\" >1995.672727</td>\n",
       "            </tr>\n",
       "            <tr>\n",
       "                        <th id=\"T_85c337da_0f8f_11eb_a2b9_d4bed9823f35level0_row11\" class=\"row_heading level0 row11\" >11</th>\n",
       "                        <td id=\"T_85c337da_0f8f_11eb_a2b9_d4bed9823f35row11_col0\" class=\"data row11 col0\" >Horror</td>\n",
       "                        <td id=\"T_85c337da_0f8f_11eb_a2b9_d4bed9823f35row11_col1\" class=\"data row11 col1\" >6.875000</td>\n",
       "                        <td id=\"T_85c337da_0f8f_11eb_a2b9_d4bed9823f35row11_col2\" class=\"data row11 col2\" >119.875000</td>\n",
       "                        <td id=\"T_85c337da_0f8f_11eb_a2b9_d4bed9823f35row11_col3\" class=\"data row11 col3\" >6.750000</td>\n",
       "                        <td id=\"T_85c337da_0f8f_11eb_a2b9_d4bed9823f35row11_col4\" class=\"data row11 col4\" >1986.500000</td>\n",
       "            </tr>\n",
       "            <tr>\n",
       "                        <th id=\"T_85c337da_0f8f_11eb_a2b9_d4bed9823f35level0_row12\" class=\"row_heading level0 row12\" >12</th>\n",
       "                        <td id=\"T_85c337da_0f8f_11eb_a2b9_d4bed9823f35row12_col0\" class=\"data row12 col0\" >Romance</td>\n",
       "                        <td id=\"T_85c337da_0f8f_11eb_a2b9_d4bed9823f35row12_col1\" class=\"data row12 col1\" >6.862500</td>\n",
       "                        <td id=\"T_85c337da_0f8f_11eb_a2b9_d4bed9823f35row12_col2\" class=\"data row12 col2\" >118.187500</td>\n",
       "                        <td id=\"T_85c337da_0f8f_11eb_a2b9_d4bed9823f35row12_col3\" class=\"data row12 col3\" >5.583333</td>\n",
       "                        <td id=\"T_85c337da_0f8f_11eb_a2b9_d4bed9823f35row12_col4\" class=\"data row12 col4\" >1989.916667</td>\n",
       "            </tr>\n",
       "            <tr>\n",
       "                        <th id=\"T_85c337da_0f8f_11eb_a2b9_d4bed9823f35level0_row13\" class=\"row_heading level0 row13\" >13</th>\n",
       "                        <td id=\"T_85c337da_0f8f_11eb_a2b9_d4bed9823f35row13_col0\" class=\"data row13 col0\" >Music</td>\n",
       "                        <td id=\"T_85c337da_0f8f_11eb_a2b9_d4bed9823f35row13_col1\" class=\"data row13 col1\" >6.822222</td>\n",
       "                        <td id=\"T_85c337da_0f8f_11eb_a2b9_d4bed9823f35row13_col2\" class=\"data row13 col2\" >116.888889</td>\n",
       "                        <td id=\"T_85c337da_0f8f_11eb_a2b9_d4bed9823f35row13_col3\" class=\"data row13 col3\" >7.222222</td>\n",
       "                        <td id=\"T_85c337da_0f8f_11eb_a2b9_d4bed9823f35row13_col4\" class=\"data row13 col4\" >1993.888889</td>\n",
       "            </tr>\n",
       "            <tr>\n",
       "                        <th id=\"T_85c337da_0f8f_11eb_a2b9_d4bed9823f35level0_row14\" class=\"row_heading level0 row14\" >14</th>\n",
       "                        <td id=\"T_85c337da_0f8f_11eb_a2b9_d4bed9823f35row14_col0\" class=\"data row14 col0\" >Crime</td>\n",
       "                        <td id=\"T_85c337da_0f8f_11eb_a2b9_d4bed9823f35row14_col1\" class=\"data row14 col1\" >6.782353</td>\n",
       "                        <td id=\"T_85c337da_0f8f_11eb_a2b9_d4bed9823f35row14_col2\" class=\"data row14 col2\" >115.235294</td>\n",
       "                        <td id=\"T_85c337da_0f8f_11eb_a2b9_d4bed9823f35row14_col3\" class=\"data row14 col3\" >7.058824</td>\n",
       "                        <td id=\"T_85c337da_0f8f_11eb_a2b9_d4bed9823f35row14_col4\" class=\"data row14 col4\" >1989.823529</td>\n",
       "            </tr>\n",
       "            <tr>\n",
       "                        <th id=\"T_85c337da_0f8f_11eb_a2b9_d4bed9823f35level0_row15\" class=\"row_heading level0 row15\" >15</th>\n",
       "                        <td id=\"T_85c337da_0f8f_11eb_a2b9_d4bed9823f35row15_col0\" class=\"data row15 col0\" >Family</td>\n",
       "                        <td id=\"T_85c337da_0f8f_11eb_a2b9_d4bed9823f35row15_col1\" class=\"data row15 col1\" >6.631250</td>\n",
       "                        <td id=\"T_85c337da_0f8f_11eb_a2b9_d4bed9823f35row15_col2\" class=\"data row15 col2\" >111.125000</td>\n",
       "                        <td id=\"T_85c337da_0f8f_11eb_a2b9_d4bed9823f35row15_col3\" class=\"data row15 col3\" >5.937500</td>\n",
       "                        <td id=\"T_85c337da_0f8f_11eb_a2b9_d4bed9823f35row15_col4\" class=\"data row15 col4\" >1988.812500</td>\n",
       "            </tr>\n",
       "    </tbody></table>"
      ],
      "text/plain": [
       "<pandas.io.formats.style.Styler at 0x17149a95640>"
      ]
     },
     "execution_count": 253,
     "metadata": {},
     "output_type": "execute_result"
    }
   ],
   "source": [
    "def highlight_max(s):\n",
    "    is_max = s == s.max()\n",
    "    return ['background-color: yellow' if v else '' for v in is_max]\n",
    "film_top.style.apply(highlight_max)"
   ]
  },
  {
   "cell_type": "code",
   "execution_count": 254,
   "metadata": {},
   "outputs": [
    {
     "data": {
      "image/png": "[encoded data removed]",
      "text/plain": [
       "<Figure size 720x504 with 1 Axes>"
      ]
     },
     "metadata": {
      "needs_background": "light"
     },
     "output_type": "display_data"
    }
   ],
   "source": [
    "plt.barh(film_top['Main_Genre'], film_top['imdb_rating'])\n",
    "plt.xlabel('Рейтинг')\n",
    "plt.ylabel('Основной жанр')\n",
    "plt.title('Топ 15 популярных жанров по рейтенгу')\n",
    "plt.text(8, 0.5, 'Самый популярный жанр')\n",
    "plt.grid(15)"
   ]
  },
  {
   "cell_type": "code",
   "execution_count": 255,
   "metadata": {},
   "outputs": [
    {
     "data": {
      "text/html": [
       "<div>\n",
       "<style scoped>\n",
       "    .dataframe tbody tr th:only-of-type {\n",
       "        vertical-align: middle;\n",
       "    }\n",
       "\n",
       "    .dataframe tbody tr th {\n",
       "        vertical-align: top;\n",
       "    }\n",
       "\n",
       "    .dataframe thead th {\n",
       "        text-align: right;\n",
       "    }\n",
       "</style>\n",
       "<table border=\"1\" class=\"dataframe\">\n",
       "  <thead>\n",
       "    <tr style=\"text-align: right;\">\n",
       "      <th></th>\n",
       "      <th>imdb_rating</th>\n",
       "    </tr>\n",
       "    <tr>\n",
       "      <th>year</th>\n",
       "      <th></th>\n",
       "    </tr>\n",
       "  </thead>\n",
       "  <tbody>\n",
       "    <tr>\n",
       "      <th>1975</th>\n",
       "      <td>46.5</td>\n",
       "    </tr>\n",
       "    <tr>\n",
       "      <th>1976</th>\n",
       "      <td>68.0</td>\n",
       "    </tr>\n",
       "    <tr>\n",
       "      <th>1977</th>\n",
       "      <td>72.6</td>\n",
       "    </tr>\n",
       "    <tr>\n",
       "      <th>1978</th>\n",
       "      <td>70.0</td>\n",
       "    </tr>\n",
       "    <tr>\n",
       "      <th>1979</th>\n",
       "      <td>71.6</td>\n",
       "    </tr>\n",
       "  </tbody>\n",
       "</table>\n",
       "</div>"
      ],
      "text/plain": [
       "      imdb_rating\n",
       "year             \n",
       "1975         46.5\n",
       "1976         68.0\n",
       "1977         72.6\n",
       "1978         70.0\n",
       "1979         71.6"
      ]
     },
     "execution_count": 255,
     "metadata": {},
     "output_type": "execute_result"
    }
   ],
   "source": [
    "film_y = film[['imdb_rating'] + ['year']]\\\n",
    "    .groupby('year').sum()\n",
    "film_y.head()"
   ]
  },
  {
   "cell_type": "code",
   "execution_count": 256,
   "metadata": {},
   "outputs": [
    {
     "data": {
      "text/plain": [
       "<matplotlib.axes._subplots.AxesSubplot at 0x171499d1310>"
      ]
     },
     "execution_count": 256,
     "metadata": {},
     "output_type": "execute_result"
    },
    {
     "data": {
      "image/png": "[encoded data removed]",
      "text/plain": [
       "<Figure size 720x504 with 1 Axes>"
      ]
     },
     "metadata": {
      "needs_background": "light"
     },
     "output_type": "display_data"
    }
   ],
   "source": [
    "film_y.plot()"
   ]
  },
  {
   "cell_type": "code",
   "execution_count": 257,
   "metadata": {},
   "outputs": [
    {
     "data": {
      "text/plain": [
       "([0, 1, 2, 3, 4, 5, 6, 7, 8, 9, 10, 11, 12, 13, 14, 15, 16, 17, 18, 19, 20],\n",
       " <a list of 21 Text major ticklabel objects>)"
      ]
     },
     "execution_count": 257,
     "metadata": {},
     "output_type": "execute_result"
    },
    {
     "data": {
      "image/png": "[encoded data removed]",
      "text/plain": [
       "<Figure size 720x504 with 1 Axes>"
      ]
     },
     "metadata": {
      "needs_background": "light"
     },
     "output_type": "display_data"
    }
   ],
   "source": [
    "maing = film.groupby('Main_Genre').mean()\n",
    "maing_names = [i for i, film in film.groupby('Main_Genre')]\n",
    "genre_2 = film.groupby('Genre_2').mean()\n",
    "genre2_names = [i for i, film in film.groupby('Genre_2')]\n",
    "genre_3 = film.groupby('Genre_3').mean()\n",
    "genre3_names = [i for i, film in film.groupby('Genre_3')]\n",
    "plt.bar(maing_names[:15], maing['imdb_rating'][:15], label='Основной жанр')\n",
    "plt.bar(genre2_names[:15], genre_2['imdb_rating'][:15], label='Второй жанр')\n",
    "plt.bar(genre3_names[:15], genre_3['imdb_rating'][:15], label='Третий жанр')\n",
    "plt.title('Все жанры фильмов')\n",
    "plt.xlabel('Жанр')\n",
    "plt.ylabel('Рейтинг')\n",
    "plt.legend()\n",
    "plt.xticks(rotation=90)"
   ]
  },
  {
   "cell_type": "code",
   "execution_count": 258,
   "metadata": {},
   "outputs": [
    {
     "data": {
      "text/html": [
       "<style  type=\"text/css\" >\n",
       "    #T_8977b656_0f8f_11eb_9eb1_d4bed9823f35row0_col0 {\n",
       "            width:  10em;\n",
       "             height:  80%;\n",
       "            background:  linear-gradient(90deg,#d65f5f 100.0%, transparent 100.0%);\n",
       "        }    #T_8977b656_0f8f_11eb_9eb1_d4bed9823f35row1_col0 {\n",
       "            width:  10em;\n",
       "             height:  80%;\n",
       "            background:  linear-gradient(90deg,#d65f5f 71.8%, transparent 71.8%);\n",
       "        }    #T_8977b656_0f8f_11eb_9eb1_d4bed9823f35row2_col0 {\n",
       "            width:  10em;\n",
       "             height:  80%;\n",
       "            background:  linear-gradient(90deg,#d65f5f 59.8%, transparent 59.8%);\n",
       "        }    #T_8977b656_0f8f_11eb_9eb1_d4bed9823f35row3_col0 {\n",
       "            width:  10em;\n",
       "             height:  80%;\n",
       "            background:  linear-gradient(90deg,#d65f5f 56.4%, transparent 56.4%);\n",
       "        }    #T_8977b656_0f8f_11eb_9eb1_d4bed9823f35row4_col0 {\n",
       "            width:  10em;\n",
       "             height:  80%;\n",
       "            background:  linear-gradient(90deg,#d65f5f 48.6%, transparent 48.6%);\n",
       "        }    #T_8977b656_0f8f_11eb_9eb1_d4bed9823f35row5_col0 {\n",
       "            width:  10em;\n",
       "             height:  80%;\n",
       "            background:  linear-gradient(90deg,#d65f5f 31.5%, transparent 31.5%);\n",
       "        }    #T_8977b656_0f8f_11eb_9eb1_d4bed9823f35row6_col0 {\n",
       "            width:  10em;\n",
       "             height:  80%;\n",
       "            background:  linear-gradient(90deg,#d65f5f 30.7%, transparent 30.7%);\n",
       "        }    #T_8977b656_0f8f_11eb_9eb1_d4bed9823f35row7_col0 {\n",
       "            width:  10em;\n",
       "             height:  80%;\n",
       "            background:  linear-gradient(90deg,#d65f5f 8.1%, transparent 8.1%);\n",
       "        }    #T_8977b656_0f8f_11eb_9eb1_d4bed9823f35row8_col0 {\n",
       "            width:  10em;\n",
       "             height:  80%;\n",
       "            background:  linear-gradient(90deg,#d65f5f 2.7%, transparent 2.7%);\n",
       "        }    #T_8977b656_0f8f_11eb_9eb1_d4bed9823f35row9_col0 {\n",
       "            width:  10em;\n",
       "             height:  80%;\n",
       "        }</style><table id=\"T_8977b656_0f8f_11eb_9eb1_d4bed9823f35\" ><thead>    <tr>        <th class=\"blank level0\" ></th>        <th class=\"col_heading level0 col0\" >imdb_rating</th>    </tr>    <tr>        <th class=\"index_name level0\" >studio</th>        <th class=\"blank\" ></th>    </tr></thead><tbody>\n",
       "                <tr>\n",
       "                        <th id=\"T_8977b656_0f8f_11eb_9eb1_d4bed9823f35level0_row0\" class=\"row_heading level0 row0\" >Warner Bros</th>\n",
       "                        <td id=\"T_8977b656_0f8f_11eb_9eb1_d4bed9823f35row0_col0\" class=\"data row0 col0\" >627.000000</td>\n",
       "            </tr>\n",
       "            <tr>\n",
       "                        <th id=\"T_8977b656_0f8f_11eb_9eb1_d4bed9823f35level0_row1\" class=\"row_heading level0 row1\" >Walt Disney Pictures</th>\n",
       "                        <td id=\"T_8977b656_0f8f_11eb_9eb1_d4bed9823f35row1_col0\" class=\"data row1 col0\" >470.300000</td>\n",
       "            </tr>\n",
       "            <tr>\n",
       "                        <th id=\"T_8977b656_0f8f_11eb_9eb1_d4bed9823f35level0_row2\" class=\"row_heading level0 row2\" >Paramount Pictures</th>\n",
       "                        <td id=\"T_8977b656_0f8f_11eb_9eb1_d4bed9823f35row2_col0\" class=\"data row2 col0\" >404.000000</td>\n",
       "            </tr>\n",
       "            <tr>\n",
       "                        <th id=\"T_8977b656_0f8f_11eb_9eb1_d4bed9823f35level0_row3\" class=\"row_heading level0 row3\" >Universal Pictures</th>\n",
       "                        <td id=\"T_8977b656_0f8f_11eb_9eb1_d4bed9823f35row3_col0\" class=\"data row3 col0\" >385.100000</td>\n",
       "            </tr>\n",
       "            <tr>\n",
       "                        <th id=\"T_8977b656_0f8f_11eb_9eb1_d4bed9823f35level0_row4\" class=\"row_heading level0 row4\" >20th Century Fox</th>\n",
       "                        <td id=\"T_8977b656_0f8f_11eb_9eb1_d4bed9823f35row4_col0\" class=\"data row4 col0\" >342.100000</td>\n",
       "            </tr>\n",
       "            <tr>\n",
       "                        <th id=\"T_8977b656_0f8f_11eb_9eb1_d4bed9823f35level0_row5\" class=\"row_heading level0 row5\" >Metro-Goldwyn-Mayer</th>\n",
       "                        <td id=\"T_8977b656_0f8f_11eb_9eb1_d4bed9823f35row5_col0\" class=\"data row5 col0\" >246.700000</td>\n",
       "            </tr>\n",
       "            <tr>\n",
       "                        <th id=\"T_8977b656_0f8f_11eb_9eb1_d4bed9823f35level0_row6\" class=\"row_heading level0 row6\" >Columbia Pictures</th>\n",
       "                        <td id=\"T_8977b656_0f8f_11eb_9eb1_d4bed9823f35row6_col0\" class=\"data row6 col0\" >242.700000</td>\n",
       "            </tr>\n",
       "            <tr>\n",
       "                        <th id=\"T_8977b656_0f8f_11eb_9eb1_d4bed9823f35level0_row7\" class=\"row_heading level0 row7\" >Sony Pictures</th>\n",
       "                        <td id=\"T_8977b656_0f8f_11eb_9eb1_d4bed9823f35row7_col0\" class=\"data row7 col0\" >117.400000</td>\n",
       "            </tr>\n",
       "            <tr>\n",
       "                        <th id=\"T_8977b656_0f8f_11eb_9eb1_d4bed9823f35level0_row8\" class=\"row_heading level0 row8\" >DreamWorks</th>\n",
       "                        <td id=\"T_8977b656_0f8f_11eb_9eb1_d4bed9823f35row8_col0\" class=\"data row8 col0\" >87.200000</td>\n",
       "            </tr>\n",
       "            <tr>\n",
       "                        <th id=\"T_8977b656_0f8f_11eb_9eb1_d4bed9823f35level0_row9\" class=\"row_heading level0 row9\" >Pixar</th>\n",
       "                        <td id=\"T_8977b656_0f8f_11eb_9eb1_d4bed9823f35row9_col0\" class=\"data row9 col0\" >72.200000</td>\n",
       "            </tr>\n",
       "    </tbody></table>"
      ],
      "text/plain": [
       "<pandas.io.formats.style.Styler at 0x17149b18a60>"
      ]
     },
     "execution_count": 258,
     "metadata": {},
     "output_type": "execute_result"
    }
   ],
   "source": [
    "top_studio = film.groupby('studio')[['imdb_rating']].sum()\\\n",
    "    .sort_values('imdb_rating', ascending=False).head(10)\n",
    "top_studio.style.bar()"
   ]
  },
  {
   "cell_type": "code",
   "execution_count": 259,
   "metadata": {},
   "outputs": [
    {
     "data": {
      "text/plain": [
       "<matplotlib.axes._subplots.AxesSubplot at 0x17149bfa0a0>"
      ]
     },
     "execution_count": 259,
     "metadata": {},
     "output_type": "execute_result"
    },
    {
     "data": {
      "image/png": "[encoded data removed]",
      "text/plain": [
       "<Figure size 720x720 with 1 Axes>"
      ]
     },
     "metadata": {},
     "output_type": "display_data"
    }
   ],
   "source": [
    "studio_dynamics = film.groupby(['studio']).sum().sort_values(by='imdb_rating', ascending=False).head(10)\n",
    "studio_dynamics.plot(kind='pie', y='imdb_rating',\n",
    "                    autopct='%.2f', fontsize=10, figsize=(10, 10))"
   ]
  },
  {
   "cell_type": "code",
   "execution_count": 260,
   "metadata": {},
   "outputs": [
    {
     "data": {
      "text/plain": [
       "Text(0, 0.5, 'Фильмы')"
      ]
     },
     "execution_count": 260,
     "metadata": {},
     "output_type": "execute_result"
    },
    {
     "data": {
      "image/png": "[encoded data removed]",
      "text/plain": [
       "<Figure size 720x504 with 1 Axes>"
      ]
     },
     "metadata": {
      "needs_background": "light"
     },
     "output_type": "display_data"
    }
   ],
   "source": [
    "ax = film.rating.hist(bins=10)\n",
    "ax.set_title('Рейтинг фильмов')\n",
    "ax.set_xlabel('Рейтинг')\n",
    "ax.set_ylabel('Фильмы')"
   ]
  },
  {
   "cell_type": "code",
   "execution_count": 261,
   "metadata": {},
   "outputs": [
    {
     "data": {
      "text/plain": [
       "([0, 1, 2, 3, 4, 5, 6, 7, 8, 9, 10, 11, 12, 13, 14, 15],\n",
       " <a list of 16 Text major ticklabel objects>)"
      ]
     },
     "execution_count": 261,
     "metadata": {},
     "output_type": "execute_result"
    },
    {
     "data": {
      "image/png": "[encoded data removed]",
      "text/plain": [
       "<Figure size 720x504 with 1 Axes>"
      ]
     },
     "metadata": {
      "needs_background": "light"
     },
     "output_type": "display_data"
    }
   ],
   "source": [
    "plt.figure\n",
    "plt.scatter(x=film['Main_Genre'],y=film['imdb_rating'])\n",
    "plt.title(\"Рейтинг фильмов по жанрам\")\n",
    "plt.xlabel(\"Жанр\")\n",
    "plt.ylabel(\"Рейтинг\")\n",
    "plt.xticks(rotation=90)"
   ]
  },
  {
   "cell_type": "code",
   "execution_count": 262,
   "metadata": {},
   "outputs": [],
   "source": [
    "from plotly.offline import init_notebook_mode, iplot\n",
    "import plotly.graph_objs as go"
   ]
  },
  {
   "cell_type": "code",
   "execution_count": 263,
   "metadata": {},
   "outputs": [
    {
     "data": {
      "text/plain": [
       "array(['Action', 'Animation', 'Music', 'Horror', 'Sci-Fi', 'Romance',\n",
       "       'Fantasy', 'Comedy', 'Adventure', 'Thriller', 'Crime', 'Drama',\n",
       "       'Family', 'War', 'History', 'Sport'], dtype=object)"
      ]
     },
     "execution_count": 263,
     "metadata": {},
     "output_type": "execute_result"
    }
   ],
   "source": [
    "film.Main_Genre.unique()"
   ]
  },
  {
   "cell_type": "code",
   "execution_count": 271,
   "metadata": {},
   "outputs": [
    {
     "data": {
      "application/vnd.plotly.v1+json": {
       "config": {
        "linkText": "Export to plot.ly",
        "plotlyServerURL": "https://plot.ly",
        "showLink": false
       },
       "data": [
        {
         "name": "Action",
         "type": "box",
         "y": [
          "$700,059,566",
          "$678,815,482",
          "$416,769,345",
          "$318,491,426",
          "$220,159,104",
          "$216,648,740",
          "$213,767,512",
          "$213,030,843",
          "$620,181,382",
          "$412,563,408",
          "$404,515,480",
          "$389,813,101",
          "$334,201,140",
          "$315,058,289",
          "$229,024,295",
          "$532,177,324",
          "$408,084,349",
          "$364,001,123",
          "$363,070,709",
          "$330,360,194",
          "$325,100,054",
          "$936,662,225",
          "$652,270,625",
          "$459,005,868",
          "$353,007,020",
          "$281,723,902",
          "$200,074,609",
          "$266,822,354.00 ",
          "$261,336,002.00 ",
          "$179,870,271.00 "
         ]
        },
        {
         "name": "Animation",
         "type": "box",
         "y": [
          "$608,581,744",
          "$264,624,300",
          "$486,295,561",
          "$368,384,330",
          "$341,268,248",
          "$270,395,425",
          "$356,461,711",
          "$336,045,770",
          "$970,761,885.00 ",
          "$665,692,281.00 ",
          "$591,794,936.00 ",
          "$543,113,985.00 ",
          "$494,878,759.00 ",
          "$886,686,817.00 ",
          "$631,744,560.00 ",
          "$603,900,354.00 ",
          "$521,311,860.00 ",
          "$623,707,397.00 ",
          "$660,940,780.00 ",
          "$384,335,608.00 ",
          "$631,442,092.00 ",
          "$349,822,765.00 "
         ]
        },
        {
         "name": "Music",
         "type": "box",
         "y": [
          "$199,721,727",
          "$504,014,165",
          "$257,850,122.00 ",
          "$411,006,740.00 ",
          "$231,605,150.00 ",
          "$183,097,323.00 ",
          "$69,701,637.00 ",
          "$67,182,787.00 ",
          "$39,000,000.00 "
         ]
        },
        {
         "name": "Horror",
         "type": "box",
         "y": [
          "$327,481,748",
          "$215,394,738.00 ",
          "$63,766,510.00 ",
          "$153,083,102.00 ",
          "$76,606,280.00 ",
          "$86,432,520.00 ",
          "$59,020,957.00 ",
          "$52,614,445.00 "
         ]
        },
        {
         "name": "Sci-Fi",
         "type": "box",
         "y": [
          "$228,433,663",
          "$1,091,404,499.00 ",
          "$774,176,600.00 ",
          "$752,100,229.00 ",
          "$748,121,534.00 ",
          "$714,766,572.00 ",
          "$708,835,589.00 ",
          "$672,974,414.00 ",
          "$1,215,439,994.00 ",
          "$1,518,594,910.00 ",
          "$691,247,768.00 ",
          "$624,026,776.00 ",
          "$1,123,794,079.00 ",
          "$825,531,030.00 ",
          "$623,933,331.00 ",
          "$836,303,693.00 ",
          "$769,304,749.00 ",
          "$585,174,222.00 ",
          "$709,709,780.00 ",
          "$459,359,555.00 ",
          "$544,272,402.00 ",
          "$742,128,461.00 ",
          "$433,371,112.00 ",
          "$427,343,298.00 ",
          "$407,711,549.00 ",
          "$358,372,926.00 ",
          "$368,780,809.00 ",
          "$362,211,740.00 ",
          "$296,339,527.00 ",
          "$460,379,930.00 ",
          "$553,709,788.00 ",
          "$349,464,664.00 ",
          "$618,638,999.00 ",
          "$589,390,539.00 ",
          "$263,920,180.00 ",
          "$817,400,891.00 ",
          "$273,961,019.00 ",
          "$264,218,220.00 ",
          "$519,843,345.00 ",
          "$331,950,002.00 ",
          "$86,160,248.00 ",
          "$85,313,124.00 ",
          "$78,400,000.00 ",
          "$76,572,238.00 ",
          "$359,197,037.00 ",
          "$108,185,706.00 ",
          "$82,258,456.00 ",
          "$80,931,801.00 ",
          "$134,218,018.00 ",
          "$116,395,460.00 "
         ]
        },
        {
         "name": "Romance",
         "type": "box",
         "y": [
          "$201,151,353",
          "$609,827,661.00 ",
          "$368,100,420.00 ",
          "$516,642,939.00 ",
          "$368,744,044.00 ",
          "$449,220,945.00 ",
          "$374,111,707.00 ",
          "$363,889,678.00 ",
          "$356,296,601.00 ",
          "$369,884,651.00 ",
          "$289,317,794.00 ",
          "$1,843,201,268.00 ",
          "$314,178,011.00 ",
          "$299,288,605.00 ",
          "$273,552,592.00 ",
          "$677,387,716.00 ",
          "$245,700,832.00 ",
          "$223,664,608.00 ",
          "$266,614,059.00 ",
          "$227,799,884.00 ",
          "$215,862,692.00 ",
          "$505,702,588.00 ",
          "$463,406,268.00 ",
          "$244,527,583.00 ",
          "$296,999,813.00 ",
          "$128,152,301.00 ",
          "$78,222,753.00 ",
          "$80,640,528.00 ",
          "$176,781,728.00 ",
          "$115,103,979.00 ",
          "$210,609,762.00 ",
          "$87,071,205.00 ",
          "$68,706,993.00 ",
          "$80,035,402.00 ",
          "$92,921,203.00 ",
          "$64,892,670.00 ",
          "$177,200,000.00 ",
          "$129,795,554.00 ",
          "$95,461,682.00 ",
          "$58,853,106.00 ",
          "$74,865,517.00 ",
          "$159,978,870.00 ",
          "$126,737,428.00 ",
          "$102,000,000.00 ",
          "$94,213,184.00 ",
          "$38,251,425.00 ",
          "$80,000,000.00 ",
          "$49,407,734.00 "
         ]
        },
        {
         "name": "Fantasy",
         "type": "box",
         "y": [
          "$955,113,783.00 ",
          "$758,654,942.00 ",
          "$709,582,323.00 ",
          "$960,366,855.00 ",
          "$668,045,518.00 ",
          "$644,783,140.00 ",
          "$1,017,003,568.00 ",
          "$829,685,377.00 ",
          "$757,930,663.00 ",
          "$1,045,713,802.00 ",
          "$712,171,856.00 ",
          "$1,025,467,110.00 ",
          "$960,283,305.00 ",
          "$698,491,347.00 ",
          "$2,749,064,328.00 ",
          "$934,416,487.00 ",
          "$709,827,462.00 ",
          "$624,386,746.00 ",
          "$963,420,425.00 ",
          "$939,885,929.00 ",
          "$1,066,179,725.00 ",
          "$391,081,192.00 ",
          "$895,921,036.00 ",
          "$848,754,768.00 ",
          "$745,011,272.00 ",
          "$795,634,069.00 ",
          "$1,119,929,521.00 ",
          "$654,264,015.00 ",
          "$484,592,874.00 ",
          "$926,287,400.00 ",
          "$878,643,482.00 ",
          "$649,398,328.00 ",
          "$441,818,803.00 ",
          "$974,733,550.00 ",
          "$870,761,744.00 ",
          "$433,013,274.00 ",
          "$345,141,403.00 ",
          "$924,317,558.00 ",
          "$415,933,406.00 ",
          "$294,456,605.00 ",
          "$336,529,144.00 ",
          "$287,928,194.00 ",
          "$262,797,249.00 ",
          "$351,583,407.00 ",
          "$341,631,208.00 ",
          "$351,863,363.00 ",
          "$191,502,426.00 ",
          "$184,155,863.00 ",
          "$114,968,774.00 ",
          "$238,632,124.00 ",
          "$252,583,617.00 ",
          "$42,365,581.00 ",
          "$307,263,857.00 ",
          "$51,061,196.00 "
         ]
        },
        {
         "name": "Comedy",
         "type": "box",
         "y": [
          "$1,274,219,009.00 ",
          "$743,559,607.00 ",
          "$877,244,782.00 ",
          "$746,921,274.00 ",
          "$586,764,305.00 ",
          "$563,749,323.00 ",
          "$559,852,396.00 ",
          "$1,063,171,911.00 ",
          "$752,600,867.00 ",
          "$731,342,744.00 ",
          "$467,483,912.00 ",
          "$798,958,162.00 ",
          "$527,071,022.00 ",
          "$574,480,052.00 ",
          "$461,983,149.00 ",
          "$532,680,671.00 ",
          "$474,968,763.00 ",
          "$919,838,758.00 ",
          "$367,275,019.00 ",
          "$867,893,978.00 ",
          "$383,257,136.00 ",
          "$525,366,597.00 ",
          "$484,409,218.00 ",
          "$330,444,045.00 ",
          "$485,015,179.00 ",
          "$312,016,858.00 ",
          "$363,398,565.00 ",
          "$302,710,615.00 ",
          "$361,958,736.00 ",
          "$247,275,374.00 ",
          "$504,050,219.00 ",
          "$181,096,164.00 ",
          "$179,033,791.00 ",
          "$201,965,915.00 ",
          "$111,938,388.00 ",
          "$109,306,210.00 ",
          "$73,707,461.00 ",
          "$66,995,000.00 ",
          "$109,713,132.00 ",
          "$79,817,937.00 ",
          "$75,973,200.00 ",
          "$60,088,980.00 ",
          "$234,760,478.00 ",
          "$81,198,894.00 ",
          "$78,371,200.00 ",
          "$90,404,800.00 ",
          "$105,492,483.00 ",
          "$72,179,579.00 ",
          "$103,290,500.00 ",
          "$83,453,539.00 ",
          "$70,687,344.00 ",
          "$73,691,419.00 ",
          "$120,091,123.00 ",
          "$85,196,485.00 ",
          "$78,000,000.00 "
         ]
        },
        {
         "name": "Adventure",
         "type": "box",
         "y": [
          "$864,912,963.00 ",
          "$786,636,033.00 ",
          "$586,090,727.00 ",
          "$890,871,626.00 ",
          "$372,710,015.00 ",
          "$783,766,341.00 ",
          "$497,409,852.00 ",
          "$821,708,551.00 ",
          "$474,171,806.00 ",
          "$411,348,924.00 ",
          "$174,803,506.00 ",
          "$212,222,025.00 ",
          "$209,398,025.00 "
         ]
        },
        {
         "name": "Thriller",
         "type": "box",
         "y": [
          "$788,679,850.00 ",
          "$716,392,705.00 ",
          "$1,108,561,013.00 ",
          "$1,084,439,099.00 ",
          "$1,341,511,219.00 ",
          "$694,713,380.00 ",
          "$626,137,675.00 ",
          "$485,930,816.00 ",
          "$585,349,010.00 ",
          "$457,364,600.00 ",
          "$758,239,851.00 ",
          "$599,045,960.00 ",
          "$397,850,012.00 ",
          "$591,745,540.00 ",
          "$362,744,280.00 ",
          "$408,247,917.00 ",
          "$450,717,150.00 ",
          "$351,692,268.00 ",
          "$546,388,105.00 ",
          "$291,420,351.00 ",
          "$672,806,292.00 ",
          "$379,014,294.00 ",
          "$285,444,603.00 ",
          "$333,011,068.00 ",
          "$457,696,359.00 ",
          "$335,062,621.00 ",
          "$309,492,681.00 ",
          "$242,295,562.00 ",
          "$366,101,766.00 ",
          "$352,194,034.00 ",
          "$327,311,859.00 ",
          "$378,882,411.00 ",
          "$350,448,145.00 ",
          "$914,691,118.00 ",
          "$270,248,367.00 ",
          "$255,000,211.00 ",
          "$352,927,224.00 ",
          "$321,731,527.00 ",
          "$243,240,178.00 ",
          "$272,742,922.00 ",
          "$205,405,498.00 ",
          "$182,291,969.00 ",
          "$240,031,094.00 ",
          "$221,303,188.00 ",
          "$227,853,986.00 ",
          "$83,008,852.00 ",
          "$156,645,693.00 ",
          "$76,270,454.00 ",
          "$65,673,230.00 ",
          "$65,207,127.00 ",
          "$150,415,432.00 ",
          "$79,567,667.00 ",
          "$67,800,000.00 ",
          "$67,642,693.00 ",
          "$54,812,802.00 ",
          "$77,737,272.00 ",
          "$49,579,269.00 ",
          "$47,346,365.00 ",
          "$46,838,673.00 ",
          "$70,600,000.00 ",
          "$60,922,980.00 ",
          "$46,236,000.00 ",
          "$41,833,347.00 "
         ]
        },
        {
         "name": "Crime",
         "type": "box",
         "y": [
          "$524,028,679.00 ",
          "$478,207,520.00 ",
          "$273,339,556.00 ",
          "$431,971,116.00 ",
          "$361,832,400.00 ",
          "$368,875,760.00 ",
          "$201,957,688.00 ",
          "$156,452,370.00 ",
          "$78,756,177.00 ",
          "$153,665,036.00 ",
          "$71,624,879.00 ",
          "$78,868,508.00 ",
          "$101,300,000.00 ",
          "$66,132,626.00 ",
          "$57,229,890.00 ",
          "$70,308,099.00 ",
          "$51,079,064.00 "
         ]
        },
        {
         "name": "Drama",
         "type": "box",
         "y": [
          "$997,000,000.00 ",
          "$550,517,357.00 ",
          "$611,899,420.00 ",
          "$457,640,427.00 ",
          "$429,632,142.00 ",
          "$328,718,434.00 ",
          "$448,191,819.00 ",
          "$315,156,409.00 ",
          "$494,471,524.00 ",
          "$346,079,773.00 ",
          "$768,625,889.00 ",
          "$215,887,717.00 ",
          "$206,678,440.00 ",
          "$195,268,056.00 ",
          "$390,493,908.00 ",
          "$424,208,848.00 ",
          "$235,860,116.00 ",
          "$172,825,435.00 ",
          "$84,542,002.00 ",
          "$94,175,854.00 ",
          "$108,423,489.00 ",
          "$64,783,827.00 ",
          "$63,541,777.00 ",
          "$78,912,963.00 ",
          "$119,285,432.00 ",
          "$50,427,646.00 ",
          "$106,260,000.00 ",
          "$50,000,000.00 ",
          "$35,000,000.00 ",
          "$34,673,100.00 "
         ]
        },
        {
         "name": "Family",
         "type": "box",
         "y": [
          "$419,665,568.00 ",
          "$304,320,254.00 ",
          "$325,338,851.00 ",
          "$320,689,294.00 ",
          "$441,286,195.00 ",
          "$358,994,850.00 ",
          "$300,854,823.00 ",
          "$476,684,675.00 ",
          "$222,724,172.00 ",
          "$167,780,960.00 ",
          "$61,389,680.00 ",
          "$90,815,558.00 ",
          "$57,059,003.00 ",
          "$65,200,000.00 ",
          "$55,700,000.00 ",
          "$36,853,000.00 "
         ]
        },
        {
         "name": "War",
         "type": "box",
         "y": [
          "$456,068,181.00 ",
          "$481,840,909.00 ",
          "$161,001,698.00 ",
          "$123,922,370.00 ",
          "$138,530,565.00 ",
          "$85,297,000.00 ",
          "$69,847,348.00 ",
          "$83,471,511.00 ",
          "$48,979,328.00 ",
          "$50,750,000.00 "
         ]
        },
        {
         "name": "History",
         "type": "box",
         "y": [
          "$456,758,981.00 ",
          "$353,471,312.00 ",
          "$321,306,305.00 ",
          "$86,600,000.00 ",
          "$43,220,000.00 "
         ]
        },
        {
         "name": "Sport",
         "type": "box",
         "y": [
          "$91,258,000.00 ",
          "$127,873,716.00 ",
          "$124,146,897.00 ",
          "$58,972,904.00 ",
          "$85,182,160.00 ",
          "$81,640,278.00 ",
          "$117,235,147.00 "
         ]
        }
       ],
       "layout": {
        "template": {
         "data": {
          "bar": [
           {
            "error_x": {
             "color": "#2a3f5f"
            },
            "error_y": {
             "color": "#2a3f5f"
            },
            "marker": {
             "line": {
              "color": "#E5ECF6",
              "width": 0.5
             }
            },
            "type": "bar"
           }
          ],
          "barpolar": [
           {
            "marker": {
             "line": {
              "color": "#E5ECF6",
              "width": 0.5
             }
            },
            "type": "barpolar"
           }
          ],
          "carpet": [
           {
            "aaxis": {
             "endlinecolor": "#2a3f5f",
             "gridcolor": "white",
             "linecolor": "white",
             "minorgridcolor": "white",
             "startlinecolor": "#2a3f5f"
            },
            "baxis": {
             "endlinecolor": "#2a3f5f",
             "gridcolor": "white",
             "linecolor": "white",
             "minorgridcolor": "white",
             "startlinecolor": "#2a3f5f"
            },
            "type": "carpet"
           }
          ],
          "choropleth": [
           {
            "colorbar": {
             "outlinewidth": 0,
             "ticks": ""
            },
            "type": "choropleth"
           }
          ],
          "contour": [
           {
            "colorbar": {
             "outlinewidth": 0,
             "ticks": ""
            },
            "colorscale": [
             [
              0,
              "#0d0887"
             ],
             [
              0.1111111111111111,
              "#46039f"
             ],
             [
              0.2222222222222222,
              "#7201a8"
             ],
             [
              0.3333333333333333,
              "#9c179e"
             ],
             [
              0.4444444444444444,
              "#bd3786"
             ],
             [
              0.5555555555555556,
              "#d8576b"
             ],
             [
              0.6666666666666666,
              "#ed7953"
             ],
             [
              0.7777777777777778,
              "#fb9f3a"
             ],
             [
              0.8888888888888888,
              "#fdca26"
             ],
             [
              1,
              "#f0f921"
             ]
            ],
            "type": "contour"
           }
          ],
          "contourcarpet": [
           {
            "colorbar": {
             "outlinewidth": 0,
             "ticks": ""
            },
            "type": "contourcarpet"
           }
          ],
          "heatmap": [
           {
            "colorbar": {
             "outlinewidth": 0,
             "ticks": ""
            },
            "colorscale": [
             [
              0,
              "#0d0887"
             ],
             [
              0.1111111111111111,
              "#46039f"
             ],
             [
              0.2222222222222222,
              "#7201a8"
             ],
             [
              0.3333333333333333,
              "#9c179e"
             ],
             [
              0.4444444444444444,
              "#bd3786"
             ],
             [
              0.5555555555555556,
              "#d8576b"
             ],
             [
              0.6666666666666666,
              "#ed7953"
             ],
             [
              0.7777777777777778,
              "#fb9f3a"
             ],
             [
              0.8888888888888888,
              "#fdca26"
             ],
             [
              1,
              "#f0f921"
             ]
            ],
            "type": "heatmap"
           }
          ],
          "heatmapgl": [
           {
            "colorbar": {
             "outlinewidth": 0,
             "ticks": ""
            },
            "colorscale": [
             [
              0,
              "#0d0887"
             ],
             [
              0.1111111111111111,
              "#46039f"
             ],
             [
              0.2222222222222222,
              "#7201a8"
             ],
             [
              0.3333333333333333,
              "#9c179e"
             ],
             [
              0.4444444444444444,
              "#bd3786"
             ],
             [
              0.5555555555555556,
              "#d8576b"
             ],
             [
              0.6666666666666666,
              "#ed7953"
             ],
             [
              0.7777777777777778,
              "#fb9f3a"
             ],
             [
              0.8888888888888888,
              "#fdca26"
             ],
             [
              1,
              "#f0f921"
             ]
            ],
            "type": "heatmapgl"
           }
          ],
          "histogram": [
           {
            "marker": {
             "colorbar": {
              "outlinewidth": 0,
              "ticks": ""
             }
            },
            "type": "histogram"
           }
          ],
          "histogram2d": [
           {
            "colorbar": {
             "outlinewidth": 0,
             "ticks": ""
            },
            "colorscale": [
             [
              0,
              "#0d0887"
             ],
             [
              0.1111111111111111,
              "#46039f"
             ],
             [
              0.2222222222222222,
              "#7201a8"
             ],
             [
              0.3333333333333333,
              "#9c179e"
             ],
             [
              0.4444444444444444,
              "#bd3786"
             ],
             [
              0.5555555555555556,
              "#d8576b"
             ],
             [
              0.6666666666666666,
              "#ed7953"
             ],
             [
              0.7777777777777778,
              "#fb9f3a"
             ],
             [
              0.8888888888888888,
              "#fdca26"
             ],
             [
              1,
              "#f0f921"
             ]
            ],
            "type": "histogram2d"
           }
          ],
          "histogram2dcontour": [
           {
            "colorbar": {
             "outlinewidth": 0,
             "ticks": ""
            },
            "colorscale": [
             [
              0,
              "#0d0887"
             ],
             [
              0.1111111111111111,
              "#46039f"
             ],
             [
              0.2222222222222222,
              "#7201a8"
             ],
             [
              0.3333333333333333,
              "#9c179e"
             ],
             [
              0.4444444444444444,
              "#bd3786"
             ],
             [
              0.5555555555555556,
              "#d8576b"
             ],
             [
              0.6666666666666666,
              "#ed7953"
             ],
             [
              0.7777777777777778,
              "#fb9f3a"
             ],
             [
              0.8888888888888888,
              "#fdca26"
             ],
             [
              1,
              "#f0f921"
             ]
            ],
            "type": "histogram2dcontour"
           }
          ],
          "mesh3d": [
           {
            "colorbar": {
             "outlinewidth": 0,
             "ticks": ""
            },
            "type": "mesh3d"
           }
          ],
          "parcoords": [
           {
            "line": {
             "colorbar": {
              "outlinewidth": 0,
              "ticks": ""
             }
            },
            "type": "parcoords"
           }
          ],
          "pie": [
           {
            "automargin": true,
            "type": "pie"
           }
          ],
          "scatter": [
           {
            "marker": {
             "colorbar": {
              "outlinewidth": 0,
              "ticks": ""
             }
            },
            "type": "scatter"
           }
          ],
          "scatter3d": [
           {
            "line": {
             "colorbar": {
              "outlinewidth": 0,
              "ticks": ""
             }
            },
            "marker": {
             "colorbar": {
              "outlinewidth": 0,
              "ticks": ""
             }
            },
            "type": "scatter3d"
           }
          ],
          "scattercarpet": [
           {
            "marker": {
             "colorbar": {
              "outlinewidth": 0,
              "ticks": ""
             }
            },
            "type": "scattercarpet"
           }
          ],
          "scattergeo": [
           {
            "marker": {
             "colorbar": {
              "outlinewidth": 0,
              "ticks": ""
             }
            },
            "type": "scattergeo"
           }
          ],
          "scattergl": [
           {
            "marker": {
             "colorbar": {
              "outlinewidth": 0,
              "ticks": ""
             }
            },
            "type": "scattergl"
           }
          ],
          "scattermapbox": [
           {
            "marker": {
             "colorbar": {
              "outlinewidth": 0,
              "ticks": ""
             }
            },
            "type": "scattermapbox"
           }
          ],
          "scatterpolar": [
           {
            "marker": {
             "colorbar": {
              "outlinewidth": 0,
              "ticks": ""
             }
            },
            "type": "scatterpolar"
           }
          ],
          "scatterpolargl": [
           {
            "marker": {
             "colorbar": {
              "outlinewidth": 0,
              "ticks": ""
             }
            },
            "type": "scatterpolargl"
           }
          ],
          "scatterternary": [
           {
            "marker": {
             "colorbar": {
              "outlinewidth": 0,
              "ticks": ""
             }
            },
            "type": "scatterternary"
           }
          ],
          "surface": [
           {
            "colorbar": {
             "outlinewidth": 0,
             "ticks": ""
            },
            "colorscale": [
             [
              0,
              "#0d0887"
             ],
             [
              0.1111111111111111,
              "#46039f"
             ],
             [
              0.2222222222222222,
              "#7201a8"
             ],
             [
              0.3333333333333333,
              "#9c179e"
             ],
             [
              0.4444444444444444,
              "#bd3786"
             ],
             [
              0.5555555555555556,
              "#d8576b"
             ],
             [
              0.6666666666666666,
              "#ed7953"
             ],
             [
              0.7777777777777778,
              "#fb9f3a"
             ],
             [
              0.8888888888888888,
              "#fdca26"
             ],
             [
              1,
              "#f0f921"
             ]
            ],
            "type": "surface"
           }
          ],
          "table": [
           {
            "cells": {
             "fill": {
              "color": "#EBF0F8"
             },
             "line": {
              "color": "white"
             }
            },
            "header": {
             "fill": {
              "color": "#C8D4E3"
             },
             "line": {
              "color": "white"
             }
            },
            "type": "table"
           }
          ]
         },
         "layout": {
          "annotationdefaults": {
           "arrowcolor": "#2a3f5f",
           "arrowhead": 0,
           "arrowwidth": 1
          },
          "coloraxis": {
           "colorbar": {
            "outlinewidth": 0,
            "ticks": ""
           }
          },
          "colorscale": {
           "diverging": [
            [
             0,
             "#8e0152"
            ],
            [
             0.1,
             "#c51b7d"
            ],
            [
             0.2,
             "#de77ae"
            ],
            [
             0.3,
             "#f1b6da"
            ],
            [
             0.4,
             "#fde0ef"
            ],
            [
             0.5,
             "#f7f7f7"
            ],
            [
             0.6,
             "#e6f5d0"
            ],
            [
             0.7,
             "#b8e186"
            ],
            [
             0.8,
             "#7fbc41"
            ],
            [
             0.9,
             "#4d9221"
            ],
            [
             1,
             "#276419"
            ]
           ],
           "sequential": [
            [
             0,
             "#0d0887"
            ],
            [
             0.1111111111111111,
             "#46039f"
            ],
            [
             0.2222222222222222,
             "#7201a8"
            ],
            [
             0.3333333333333333,
             "#9c179e"
            ],
            [
             0.4444444444444444,
             "#bd3786"
            ],
            [
             0.5555555555555556,
             "#d8576b"
            ],
            [
             0.6666666666666666,
             "#ed7953"
            ],
            [
             0.7777777777777778,
             "#fb9f3a"
            ],
            [
             0.8888888888888888,
             "#fdca26"
            ],
            [
             1,
             "#f0f921"
            ]
           ],
           "sequentialminus": [
            [
             0,
             "#0d0887"
            ],
            [
             0.1111111111111111,
             "#46039f"
            ],
            [
             0.2222222222222222,
             "#7201a8"
            ],
            [
             0.3333333333333333,
             "#9c179e"
            ],
            [
             0.4444444444444444,
             "#bd3786"
            ],
            [
             0.5555555555555556,
             "#d8576b"
            ],
            [
             0.6666666666666666,
             "#ed7953"
            ],
            [
             0.7777777777777778,
             "#fb9f3a"
            ],
            [
             0.8888888888888888,
             "#fdca26"
            ],
            [
             1,
             "#f0f921"
            ]
           ]
          },
          "colorway": [
           "#636efa",
           "#EF553B",
           "#00cc96",
           "#ab63fa",
           "#FFA15A",
           "#19d3f3",
           "#FF6692",
           "#B6E880",
           "#FF97FF",
           "#FECB52"
          ],
          "font": {
           "color": "#2a3f5f"
          },
          "geo": {
           "bgcolor": "white",
           "lakecolor": "white",
           "landcolor": "#E5ECF6",
           "showlakes": true,
           "showland": true,
           "subunitcolor": "white"
          },
          "hoverlabel": {
           "align": "left"
          },
          "hovermode": "closest",
          "mapbox": {
           "style": "light"
          },
          "paper_bgcolor": "white",
          "plot_bgcolor": "#E5ECF6",
          "polar": {
           "angularaxis": {
            "gridcolor": "white",
            "linecolor": "white",
            "ticks": ""
           },
           "bgcolor": "#E5ECF6",
           "radialaxis": {
            "gridcolor": "white",
            "linecolor": "white",
            "ticks": ""
           }
          },
          "scene": {
           "xaxis": {
            "backgroundcolor": "#E5ECF6",
            "gridcolor": "white",
            "gridwidth": 2,
            "linecolor": "white",
            "showbackground": true,
            "ticks": "",
            "zerolinecolor": "white"
           },
           "yaxis": {
            "backgroundcolor": "#E5ECF6",
            "gridcolor": "white",
            "gridwidth": 2,
            "linecolor": "white",
            "showbackground": true,
            "ticks": "",
            "zerolinecolor": "white"
           },
           "zaxis": {
            "backgroundcolor": "#E5ECF6",
            "gridcolor": "white",
            "gridwidth": 2,
            "linecolor": "white",
            "showbackground": true,
            "ticks": "",
            "zerolinecolor": "white"
           }
          },
          "shapedefaults": {
           "line": {
            "color": "#2a3f5f"
           }
          },
          "ternary": {
           "aaxis": {
            "gridcolor": "white",
            "linecolor": "white",
            "ticks": ""
           },
           "baxis": {
            "gridcolor": "white",
            "linecolor": "white",
            "ticks": ""
           },
           "bgcolor": "#E5ECF6",
           "caxis": {
            "gridcolor": "white",
            "linecolor": "white",
            "ticks": ""
           }
          },
          "title": {
           "x": 0.05
          },
          "xaxis": {
           "automargin": true,
           "gridcolor": "white",
           "linecolor": "white",
           "ticks": "",
           "title": {
            "standoff": 15
           },
           "zerolinecolor": "white",
           "zerolinewidth": 2
          },
          "yaxis": {
           "automargin": true,
           "gridcolor": "white",
           "linecolor": "white",
           "ticks": "",
           "title": {
            "standoff": 15
           },
           "zerolinecolor": "white",
           "zerolinewidth": 2
          }
         }
        }
       }
      },
      "text/html": [
       "<div>                            <div id=\"05b33d28-d21b-45af-a06c-00d00e5efba3\" class=\"plotly-graph-div\" style=\"height:525px; width:100%;\"></div>            <script type=\"text/javascript\">                require([\"plotly\"], function(Plotly) {                    window.PLOTLYENV=window.PLOTLYENV || {};                                    if (document.getElementById(\"05b33d28-d21b-45af-a06c-00d00e5efba3\")) {                    Plotly.newPlot(                        \"05b33d28-d21b-45af-a06c-00d00e5efba3\",                        [{\"name\": \"Action\", \"type\": \"box\", \"y\": [\"$700,059,566\", \"$678,815,482\", \"$416,769,345\", \"$318,491,426\", \"$220,159,104\", \"$216,648,740\", \"$213,767,512\", \"$213,030,843\", \"$620,181,382\", \"$412,563,408\", \"$404,515,480\", \"$389,813,101\", \"$334,201,140\", \"$315,058,289\", \"$229,024,295\", \"$532,177,324\", \"$408,084,349\", \"$364,001,123\", \"$363,070,709\", \"$330,360,194\", \"$325,100,054\", \"$936,662,225\", \"$652,270,625\", \"$459,005,868\", \"$353,007,020\", \"$281,723,902\", \"$200,074,609\", \"$266,822,354.00 \", \"$261,336,002.00 \", \"$179,870,271.00 \"]}, {\"name\": \"Animation\", \"type\": \"box\", \"y\": [\"$608,581,744\", \"$264,624,300\", \"$486,295,561\", \"$368,384,330\", \"$341,268,248\", \"$270,395,425\", \"$356,461,711\", \"$336,045,770\", \"$970,761,885.00 \", \"$665,692,281.00 \", \"$591,794,936.00 \", \"$543,113,985.00 \", \"$494,878,759.00 \", \"$886,686,817.00 \", \"$631,744,560.00 \", \"$603,900,354.00 \", \"$521,311,860.00 \", \"$623,707,397.00 \", \"$660,940,780.00 \", \"$384,335,608.00 \", \"$631,442,092.00 \", \"$349,822,765.00 \"]}, {\"name\": \"Music\", \"type\": \"box\", \"y\": [\"$199,721,727\", \"$504,014,165\", \"$257,850,122.00 \", \"$411,006,740.00 \", \"$231,605,150.00 \", \"$183,097,323.00 \", \"$69,701,637.00 \", \"$67,182,787.00 \", \"$39,000,000.00 \"]}, {\"name\": \"Horror\", \"type\": \"box\", \"y\": [\"$327,481,748\", \"$215,394,738.00 \", \"$63,766,510.00 \", \"$153,083,102.00 \", \"$76,606,280.00 \", \"$86,432,520.00 \", \"$59,020,957.00 \", \"$52,614,445.00 \"]}, {\"name\": \"Sci-Fi\", \"type\": \"box\", \"y\": [\"$228,433,663\", \"$1,091,404,499.00 \", \"$774,176,600.00 \", \"$752,100,229.00 \", \"$748,121,534.00 \", \"$714,766,572.00 \", \"$708,835,589.00 \", \"$672,974,414.00 \", \"$1,215,439,994.00 \", \"$1,518,594,910.00 \", \"$691,247,768.00 \", \"$624,026,776.00 \", \"$1,123,794,079.00 \", \"$825,531,030.00 \", \"$623,933,331.00 \", \"$836,303,693.00 \", \"$769,304,749.00 \", \"$585,174,222.00 \", \"$709,709,780.00 \", \"$459,359,555.00 \", \"$544,272,402.00 \", \"$742,128,461.00 \", \"$433,371,112.00 \", \"$427,343,298.00 \", \"$407,711,549.00 \", \"$358,372,926.00 \", \"$368,780,809.00 \", \"$362,211,740.00 \", \"$296,339,527.00 \", \"$460,379,930.00 \", \"$553,709,788.00 \", \"$349,464,664.00 \", \"$618,638,999.00 \", \"$589,390,539.00 \", \"$263,920,180.00 \", \"$817,400,891.00 \", \"$273,961,019.00 \", \"$264,218,220.00 \", \"$519,843,345.00 \", \"$331,950,002.00 \", \"$86,160,248.00 \", \"$85,313,124.00 \", \"$78,400,000.00 \", \"$76,572,238.00 \", \"$359,197,037.00 \", \"$108,185,706.00 \", \"$82,258,456.00 \", \"$80,931,801.00 \", \"$134,218,018.00 \", \"$116,395,460.00 \"]}, {\"name\": \"Romance\", \"type\": \"box\", \"y\": [\"$201,151,353\", \"$609,827,661.00 \", \"$368,100,420.00 \", \"$516,642,939.00 \", \"$368,744,044.00 \", \"$449,220,945.00 \", \"$374,111,707.00 \", \"$363,889,678.00 \", \"$356,296,601.00 \", \"$369,884,651.00 \", \"$289,317,794.00 \", \"$1,843,201,268.00 \", \"$314,178,011.00 \", \"$299,288,605.00 \", \"$273,552,592.00 \", \"$677,387,716.00 \", \"$245,700,832.00 \", \"$223,664,608.00 \", \"$266,614,059.00 \", \"$227,799,884.00 \", \"$215,862,692.00 \", \"$505,702,588.00 \", \"$463,406,268.00 \", \"$244,527,583.00 \", \"$296,999,813.00 \", \"$128,152,301.00 \", \"$78,222,753.00 \", \"$80,640,528.00 \", \"$176,781,728.00 \", \"$115,103,979.00 \", \"$210,609,762.00 \", \"$87,071,205.00 \", \"$68,706,993.00 \", \"$80,035,402.00 \", \"$92,921,203.00 \", \"$64,892,670.00 \", \"$177,200,000.00 \", \"$129,795,554.00 \", \"$95,461,682.00 \", \"$58,853,106.00 \", \"$74,865,517.00 \", \"$159,978,870.00 \", \"$126,737,428.00 \", \"$102,000,000.00 \", \"$94,213,184.00 \", \"$38,251,425.00 \", \"$80,000,000.00 \", \"$49,407,734.00 \"]}, {\"name\": \"Fantasy\", \"type\": \"box\", \"y\": [\"$955,113,783.00 \", \"$758,654,942.00 \", \"$709,582,323.00 \", \"$960,366,855.00 \", \"$668,045,518.00 \", \"$644,783,140.00 \", \"$1,017,003,568.00 \", \"$829,685,377.00 \", \"$757,930,663.00 \", \"$1,045,713,802.00 \", \"$712,171,856.00 \", \"$1,025,467,110.00 \", \"$960,283,305.00 \", \"$698,491,347.00 \", \"$2,749,064,328.00 \", \"$934,416,487.00 \", \"$709,827,462.00 \", \"$624,386,746.00 \", \"$963,420,425.00 \", \"$939,885,929.00 \", \"$1,066,179,725.00 \", \"$391,081,192.00 \", \"$895,921,036.00 \", \"$848,754,768.00 \", \"$745,011,272.00 \", \"$795,634,069.00 \", \"$1,119,929,521.00 \", \"$654,264,015.00 \", \"$484,592,874.00 \", \"$926,287,400.00 \", \"$878,643,482.00 \", \"$649,398,328.00 \", \"$441,818,803.00 \", \"$974,733,550.00 \", \"$870,761,744.00 \", \"$433,013,274.00 \", \"$345,141,403.00 \", \"$924,317,558.00 \", \"$415,933,406.00 \", \"$294,456,605.00 \", \"$336,529,144.00 \", \"$287,928,194.00 \", \"$262,797,249.00 \", \"$351,583,407.00 \", \"$341,631,208.00 \", \"$351,863,363.00 \", \"$191,502,426.00 \", \"$184,155,863.00 \", \"$114,968,774.00 \", \"$238,632,124.00 \", \"$252,583,617.00 \", \"$42,365,581.00 \", \"$307,263,857.00 \", \"$51,061,196.00 \"]}, {\"name\": \"Comedy\", \"type\": \"box\", \"y\": [\"$1,274,219,009.00 \", \"$743,559,607.00 \", \"$877,244,782.00 \", \"$746,921,274.00 \", \"$586,764,305.00 \", \"$563,749,323.00 \", \"$559,852,396.00 \", \"$1,063,171,911.00 \", \"$752,600,867.00 \", \"$731,342,744.00 \", \"$467,483,912.00 \", \"$798,958,162.00 \", \"$527,071,022.00 \", \"$574,480,052.00 \", \"$461,983,149.00 \", \"$532,680,671.00 \", \"$474,968,763.00 \", \"$919,838,758.00 \", \"$367,275,019.00 \", \"$867,893,978.00 \", \"$383,257,136.00 \", \"$525,366,597.00 \", \"$484,409,218.00 \", \"$330,444,045.00 \", \"$485,015,179.00 \", \"$312,016,858.00 \", \"$363,398,565.00 \", \"$302,710,615.00 \", \"$361,958,736.00 \", \"$247,275,374.00 \", \"$504,050,219.00 \", \"$181,096,164.00 \", \"$179,033,791.00 \", \"$201,965,915.00 \", \"$111,938,388.00 \", \"$109,306,210.00 \", \"$73,707,461.00 \", \"$66,995,000.00 \", \"$109,713,132.00 \", \"$79,817,937.00 \", \"$75,973,200.00 \", \"$60,088,980.00 \", \"$234,760,478.00 \", \"$81,198,894.00 \", \"$78,371,200.00 \", \"$90,404,800.00 \", \"$105,492,483.00 \", \"$72,179,579.00 \", \"$103,290,500.00 \", \"$83,453,539.00 \", \"$70,687,344.00 \", \"$73,691,419.00 \", \"$120,091,123.00 \", \"$85,196,485.00 \", \"$78,000,000.00 \"]}, {\"name\": \"Adventure\", \"type\": \"box\", \"y\": [\"$864,912,963.00 \", \"$786,636,033.00 \", \"$586,090,727.00 \", \"$890,871,626.00 \", \"$372,710,015.00 \", \"$783,766,341.00 \", \"$497,409,852.00 \", \"$821,708,551.00 \", \"$474,171,806.00 \", \"$411,348,924.00 \", \"$174,803,506.00 \", \"$212,222,025.00 \", \"$209,398,025.00 \"]}, {\"name\": \"Thriller\", \"type\": \"box\", \"y\": [\"$788,679,850.00 \", \"$716,392,705.00 \", \"$1,108,561,013.00 \", \"$1,084,439,099.00 \", \"$1,341,511,219.00 \", \"$694,713,380.00 \", \"$626,137,675.00 \", \"$485,930,816.00 \", \"$585,349,010.00 \", \"$457,364,600.00 \", \"$758,239,851.00 \", \"$599,045,960.00 \", \"$397,850,012.00 \", \"$591,745,540.00 \", \"$362,744,280.00 \", \"$408,247,917.00 \", \"$450,717,150.00 \", \"$351,692,268.00 \", \"$546,388,105.00 \", \"$291,420,351.00 \", \"$672,806,292.00 \", \"$379,014,294.00 \", \"$285,444,603.00 \", \"$333,011,068.00 \", \"$457,696,359.00 \", \"$335,062,621.00 \", \"$309,492,681.00 \", \"$242,295,562.00 \", \"$366,101,766.00 \", \"$352,194,034.00 \", \"$327,311,859.00 \", \"$378,882,411.00 \", \"$350,448,145.00 \", \"$914,691,118.00 \", \"$270,248,367.00 \", \"$255,000,211.00 \", \"$352,927,224.00 \", \"$321,731,527.00 \", \"$243,240,178.00 \", \"$272,742,922.00 \", \"$205,405,498.00 \", \"$182,291,969.00 \", \"$240,031,094.00 \", \"$221,303,188.00 \", \"$227,853,986.00 \", \"$83,008,852.00 \", \"$156,645,693.00 \", \"$76,270,454.00 \", \"$65,673,230.00 \", \"$65,207,127.00 \", \"$150,415,432.00 \", \"$79,567,667.00 \", \"$67,800,000.00 \", \"$67,642,693.00 \", \"$54,812,802.00 \", \"$77,737,272.00 \", \"$49,579,269.00 \", \"$47,346,365.00 \", \"$46,838,673.00 \", \"$70,600,000.00 \", \"$60,922,980.00 \", \"$46,236,000.00 \", \"$41,833,347.00 \"]}, {\"name\": \"Crime\", \"type\": \"box\", \"y\": [\"$524,028,679.00 \", \"$478,207,520.00 \", \"$273,339,556.00 \", \"$431,971,116.00 \", \"$361,832,400.00 \", \"$368,875,760.00 \", \"$201,957,688.00 \", \"$156,452,370.00 \", \"$78,756,177.00 \", \"$153,665,036.00 \", \"$71,624,879.00 \", \"$78,868,508.00 \", \"$101,300,000.00 \", \"$66,132,626.00 \", \"$57,229,890.00 \", \"$70,308,099.00 \", \"$51,079,064.00 \"]}, {\"name\": \"Drama\", \"type\": \"box\", \"y\": [\"$997,000,000.00 \", \"$550,517,357.00 \", \"$611,899,420.00 \", \"$457,640,427.00 \", \"$429,632,142.00 \", \"$328,718,434.00 \", \"$448,191,819.00 \", \"$315,156,409.00 \", \"$494,471,524.00 \", \"$346,079,773.00 \", \"$768,625,889.00 \", \"$215,887,717.00 \", \"$206,678,440.00 \", \"$195,268,056.00 \", \"$390,493,908.00 \", \"$424,208,848.00 \", \"$235,860,116.00 \", \"$172,825,435.00 \", \"$84,542,002.00 \", \"$94,175,854.00 \", \"$108,423,489.00 \", \"$64,783,827.00 \", \"$63,541,777.00 \", \"$78,912,963.00 \", \"$119,285,432.00 \", \"$50,427,646.00 \", \"$106,260,000.00 \", \"$50,000,000.00 \", \"$35,000,000.00 \", \"$34,673,100.00 \"]}, {\"name\": \"Family\", \"type\": \"box\", \"y\": [\"$419,665,568.00 \", \"$304,320,254.00 \", \"$325,338,851.00 \", \"$320,689,294.00 \", \"$441,286,195.00 \", \"$358,994,850.00 \", \"$300,854,823.00 \", \"$476,684,675.00 \", \"$222,724,172.00 \", \"$167,780,960.00 \", \"$61,389,680.00 \", \"$90,815,558.00 \", \"$57,059,003.00 \", \"$65,200,000.00 \", \"$55,700,000.00 \", \"$36,853,000.00 \"]}, {\"name\": \"War\", \"type\": \"box\", \"y\": [\"$456,068,181.00 \", \"$481,840,909.00 \", \"$161,001,698.00 \", \"$123,922,370.00 \", \"$138,530,565.00 \", \"$85,297,000.00 \", \"$69,847,348.00 \", \"$83,471,511.00 \", \"$48,979,328.00 \", \"$50,750,000.00 \"]}, {\"name\": \"History\", \"type\": \"box\", \"y\": [\"$456,758,981.00 \", \"$353,471,312.00 \", \"$321,306,305.00 \", \"$86,600,000.00 \", \"$43,220,000.00 \"]}, {\"name\": \"Sport\", \"type\": \"box\", \"y\": [\"$91,258,000.00 \", \"$127,873,716.00 \", \"$124,146,897.00 \", \"$58,972,904.00 \", \"$85,182,160.00 \", \"$81,640,278.00 \", \"$117,235,147.00 \"]}],                        {\"template\": {\"data\": {\"bar\": [{\"error_x\": {\"color\": \"#2a3f5f\"}, \"error_y\": {\"color\": \"#2a3f5f\"}, \"marker\": {\"line\": {\"color\": \"#E5ECF6\", \"width\": 0.5}}, \"type\": \"bar\"}], \"barpolar\": [{\"marker\": {\"line\": {\"color\": \"#E5ECF6\", \"width\": 0.5}}, \"type\": \"barpolar\"}], \"carpet\": [{\"aaxis\": {\"endlinecolor\": \"#2a3f5f\", \"gridcolor\": \"white\", \"linecolor\": \"white\", \"minorgridcolor\": \"white\", \"startlinecolor\": \"#2a3f5f\"}, \"baxis\": {\"endlinecolor\": \"#2a3f5f\", \"gridcolor\": \"white\", \"linecolor\": \"white\", \"minorgridcolor\": \"white\", \"startlinecolor\": \"#2a3f5f\"}, \"type\": \"carpet\"}], \"choropleth\": [{\"colorbar\": {\"outlinewidth\": 0, \"ticks\": \"\"}, \"type\": \"choropleth\"}], \"contour\": [{\"colorbar\": {\"outlinewidth\": 0, \"ticks\": \"\"}, \"colorscale\": [[0.0, \"#0d0887\"], [0.1111111111111111, \"#46039f\"], [0.2222222222222222, \"#7201a8\"], [0.3333333333333333, \"#9c179e\"], [0.4444444444444444, \"#bd3786\"], [0.5555555555555556, \"#d8576b\"], [0.6666666666666666, \"#ed7953\"], [0.7777777777777778, \"#fb9f3a\"], [0.8888888888888888, \"#fdca26\"], [1.0, \"#f0f921\"]], \"type\": \"contour\"}], \"contourcarpet\": [{\"colorbar\": {\"outlinewidth\": 0, \"ticks\": \"\"}, \"type\": \"contourcarpet\"}], \"heatmap\": [{\"colorbar\": {\"outlinewidth\": 0, \"ticks\": \"\"}, \"colorscale\": [[0.0, \"#0d0887\"], [0.1111111111111111, \"#46039f\"], [0.2222222222222222, \"#7201a8\"], [0.3333333333333333, \"#9c179e\"], [0.4444444444444444, \"#bd3786\"], [0.5555555555555556, \"#d8576b\"], [0.6666666666666666, \"#ed7953\"], [0.7777777777777778, \"#fb9f3a\"], [0.8888888888888888, \"#fdca26\"], [1.0, \"#f0f921\"]], \"type\": \"heatmap\"}], \"heatmapgl\": [{\"colorbar\": {\"outlinewidth\": 0, \"ticks\": \"\"}, \"colorscale\": [[0.0, \"#0d0887\"], [0.1111111111111111, \"#46039f\"], [0.2222222222222222, \"#7201a8\"], [0.3333333333333333, \"#9c179e\"], [0.4444444444444444, \"#bd3786\"], [0.5555555555555556, \"#d8576b\"], [0.6666666666666666, \"#ed7953\"], [0.7777777777777778, \"#fb9f3a\"], [0.8888888888888888, \"#fdca26\"], [1.0, \"#f0f921\"]], \"type\": \"heatmapgl\"}], \"histogram\": [{\"marker\": {\"colorbar\": {\"outlinewidth\": 0, \"ticks\": \"\"}}, \"type\": \"histogram\"}], \"histogram2d\": [{\"colorbar\": {\"outlinewidth\": 0, \"ticks\": \"\"}, \"colorscale\": [[0.0, \"#0d0887\"], [0.1111111111111111, \"#46039f\"], [0.2222222222222222, \"#7201a8\"], [0.3333333333333333, \"#9c179e\"], [0.4444444444444444, \"#bd3786\"], [0.5555555555555556, \"#d8576b\"], [0.6666666666666666, \"#ed7953\"], [0.7777777777777778, \"#fb9f3a\"], [0.8888888888888888, \"#fdca26\"], [1.0, \"#f0f921\"]], \"type\": \"histogram2d\"}], \"histogram2dcontour\": [{\"colorbar\": {\"outlinewidth\": 0, \"ticks\": \"\"}, \"colorscale\": [[0.0, \"#0d0887\"], [0.1111111111111111, \"#46039f\"], [0.2222222222222222, \"#7201a8\"], [0.3333333333333333, \"#9c179e\"], [0.4444444444444444, \"#bd3786\"], [0.5555555555555556, \"#d8576b\"], [0.6666666666666666, \"#ed7953\"], [0.7777777777777778, \"#fb9f3a\"], [0.8888888888888888, \"#fdca26\"], [1.0, \"#f0f921\"]], \"type\": \"histogram2dcontour\"}], \"mesh3d\": [{\"colorbar\": {\"outlinewidth\": 0, \"ticks\": \"\"}, \"type\": \"mesh3d\"}], \"parcoords\": [{\"line\": {\"colorbar\": {\"outlinewidth\": 0, \"ticks\": \"\"}}, \"type\": \"parcoords\"}], \"pie\": [{\"automargin\": true, \"type\": \"pie\"}], \"scatter\": [{\"marker\": {\"colorbar\": {\"outlinewidth\": 0, \"ticks\": \"\"}}, \"type\": \"scatter\"}], \"scatter3d\": [{\"line\": {\"colorbar\": {\"outlinewidth\": 0, \"ticks\": \"\"}}, \"marker\": {\"colorbar\": {\"outlinewidth\": 0, \"ticks\": \"\"}}, \"type\": \"scatter3d\"}], \"scattercarpet\": [{\"marker\": {\"colorbar\": {\"outlinewidth\": 0, \"ticks\": \"\"}}, \"type\": \"scattercarpet\"}], \"scattergeo\": [{\"marker\": {\"colorbar\": {\"outlinewidth\": 0, \"ticks\": \"\"}}, \"type\": \"scattergeo\"}], \"scattergl\": [{\"marker\": {\"colorbar\": {\"outlinewidth\": 0, \"ticks\": \"\"}}, \"type\": \"scattergl\"}], \"scattermapbox\": [{\"marker\": {\"colorbar\": {\"outlinewidth\": 0, \"ticks\": \"\"}}, \"type\": \"scattermapbox\"}], \"scatterpolar\": [{\"marker\": {\"colorbar\": {\"outlinewidth\": 0, \"ticks\": \"\"}}, \"type\": \"scatterpolar\"}], \"scatterpolargl\": [{\"marker\": {\"colorbar\": {\"outlinewidth\": 0, \"ticks\": \"\"}}, \"type\": \"scatterpolargl\"}], \"scatterternary\": [{\"marker\": {\"colorbar\": {\"outlinewidth\": 0, \"ticks\": \"\"}}, \"type\": \"scatterternary\"}], \"surface\": [{\"colorbar\": {\"outlinewidth\": 0, \"ticks\": \"\"}, \"colorscale\": [[0.0, \"#0d0887\"], [0.1111111111111111, \"#46039f\"], [0.2222222222222222, \"#7201a8\"], [0.3333333333333333, \"#9c179e\"], [0.4444444444444444, \"#bd3786\"], [0.5555555555555556, \"#d8576b\"], [0.6666666666666666, \"#ed7953\"], [0.7777777777777778, \"#fb9f3a\"], [0.8888888888888888, \"#fdca26\"], [1.0, \"#f0f921\"]], \"type\": \"surface\"}], \"table\": [{\"cells\": {\"fill\": {\"color\": \"#EBF0F8\"}, \"line\": {\"color\": \"white\"}}, \"header\": {\"fill\": {\"color\": \"#C8D4E3\"}, \"line\": {\"color\": \"white\"}}, \"type\": \"table\"}]}, \"layout\": {\"annotationdefaults\": {\"arrowcolor\": \"#2a3f5f\", \"arrowhead\": 0, \"arrowwidth\": 1}, \"coloraxis\": {\"colorbar\": {\"outlinewidth\": 0, \"ticks\": \"\"}}, \"colorscale\": {\"diverging\": [[0, \"#8e0152\"], [0.1, \"#c51b7d\"], [0.2, \"#de77ae\"], [0.3, \"#f1b6da\"], [0.4, \"#fde0ef\"], [0.5, \"#f7f7f7\"], [0.6, \"#e6f5d0\"], [0.7, \"#b8e186\"], [0.8, \"#7fbc41\"], [0.9, \"#4d9221\"], [1, \"#276419\"]], \"sequential\": [[0.0, \"#0d0887\"], [0.1111111111111111, \"#46039f\"], [0.2222222222222222, \"#7201a8\"], [0.3333333333333333, \"#9c179e\"], [0.4444444444444444, \"#bd3786\"], [0.5555555555555556, \"#d8576b\"], [0.6666666666666666, \"#ed7953\"], [0.7777777777777778, \"#fb9f3a\"], [0.8888888888888888, \"#fdca26\"], [1.0, \"#f0f921\"]], \"sequentialminus\": [[0.0, \"#0d0887\"], [0.1111111111111111, \"#46039f\"], [0.2222222222222222, \"#7201a8\"], [0.3333333333333333, \"#9c179e\"], [0.4444444444444444, \"#bd3786\"], [0.5555555555555556, \"#d8576b\"], [0.6666666666666666, \"#ed7953\"], [0.7777777777777778, \"#fb9f3a\"], [0.8888888888888888, \"#fdca26\"], [1.0, \"#f0f921\"]]}, \"colorway\": [\"#636efa\", \"#EF553B\", \"#00cc96\", \"#ab63fa\", \"#FFA15A\", \"#19d3f3\", \"#FF6692\", \"#B6E880\", \"#FF97FF\", \"#FECB52\"], \"font\": {\"color\": \"#2a3f5f\"}, \"geo\": {\"bgcolor\": \"white\", \"lakecolor\": \"white\", \"landcolor\": \"#E5ECF6\", \"showlakes\": true, \"showland\": true, \"subunitcolor\": \"white\"}, \"hoverlabel\": {\"align\": \"left\"}, \"hovermode\": \"closest\", \"mapbox\": {\"style\": \"light\"}, \"paper_bgcolor\": \"white\", \"plot_bgcolor\": \"#E5ECF6\", \"polar\": {\"angularaxis\": {\"gridcolor\": \"white\", \"linecolor\": \"white\", \"ticks\": \"\"}, \"bgcolor\": \"#E5ECF6\", \"radialaxis\": {\"gridcolor\": \"white\", \"linecolor\": \"white\", \"ticks\": \"\"}}, \"scene\": {\"xaxis\": {\"backgroundcolor\": \"#E5ECF6\", \"gridcolor\": \"white\", \"gridwidth\": 2, \"linecolor\": \"white\", \"showbackground\": true, \"ticks\": \"\", \"zerolinecolor\": \"white\"}, \"yaxis\": {\"backgroundcolor\": \"#E5ECF6\", \"gridcolor\": \"white\", \"gridwidth\": 2, \"linecolor\": \"white\", \"showbackground\": true, \"ticks\": \"\", \"zerolinecolor\": \"white\"}, \"zaxis\": {\"backgroundcolor\": \"#E5ECF6\", \"gridcolor\": \"white\", \"gridwidth\": 2, \"linecolor\": \"white\", \"showbackground\": true, \"ticks\": \"\", \"zerolinecolor\": \"white\"}}, \"shapedefaults\": {\"line\": {\"color\": \"#2a3f5f\"}}, \"ternary\": {\"aaxis\": {\"gridcolor\": \"white\", \"linecolor\": \"white\", \"ticks\": \"\"}, \"baxis\": {\"gridcolor\": \"white\", \"linecolor\": \"white\", \"ticks\": \"\"}, \"bgcolor\": \"#E5ECF6\", \"caxis\": {\"gridcolor\": \"white\", \"linecolor\": \"white\", \"ticks\": \"\"}}, \"title\": {\"x\": 0.05}, \"xaxis\": {\"automargin\": true, \"gridcolor\": \"white\", \"linecolor\": \"white\", \"ticks\": \"\", \"title\": {\"standoff\": 15}, \"zerolinecolor\": \"white\", \"zerolinewidth\": 2}, \"yaxis\": {\"automargin\": true, \"gridcolor\": \"white\", \"linecolor\": \"white\", \"ticks\": \"\", \"title\": {\"standoff\": 15}, \"zerolinecolor\": \"white\", \"zerolinewidth\": 2}}}},                        {\"responsive\": true}                    ).then(function(){\n",
       "                            \n",
       "var gd = document.getElementById('05b33d28-d21b-45af-a06c-00d00e5efba3');\n",
       "var x = new MutationObserver(function (mutations, observer) {{\n",
       "        var display = window.getComputedStyle(gd).display;\n",
       "        if (!display || display === 'none') {{\n",
       "            console.log([gd, 'removed!']);\n",
       "            Plotly.purge(gd);\n",
       "            observer.disconnect();\n",
       "        }}\n",
       "}});\n",
       "\n",
       "// Listen for the removal of the full notebook cells\n",
       "var notebookContainer = gd.closest('#notebook-container');\n",
       "if (notebookContainer) {{\n",
       "    x.observe(notebookContainer, {childList: true});\n",
       "}}\n",
       "\n",
       "// Listen for the clearing of the current output cell\n",
       "var outputEl = gd.closest('.output');\n",
       "if (outputEl) {{\n",
       "    x.observe(outputEl, {childList: true});\n",
       "}}\n",
       "\n",
       "                        })                };                });            </script>        </div>"
      ]
     },
     "metadata": {},
     "output_type": "display_data"
    }
   ],
   "source": [
    "data = []\n",
    "for genre in film.Main_Genre.unique():\n",
    "    data.append(go.Box(y=film[film.Main_Genre==genre].worldwide_gross, name=genre))\n",
    "iplot(data)"
   ]
  },
  {
   "cell_type": "code",
   "execution_count": null,
   "metadata": {},
   "outputs": [],
   "source": []
  }
 ],
 "metadata": {
  "kernelspec": {
   "display_name": "Python 3",
   "language": "python",
   "name": "python3"
  },
  "language_info": {
   "codemirror_mode": {
    "name": "ipython",
    "version": 3
   },
   "file_extension": ".py",
   "mimetype": "text/x-python",
   "name": "python",
   "nbconvert_exporter": "python",
   "pygments_lexer": "ipython3",
   "version": "3.8.3"
  }
 },
 "nbformat": 4,
 "nbformat_minor": 4
}
