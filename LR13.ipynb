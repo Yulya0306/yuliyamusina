{
 "cells": [
  {
   "cell_type": "code",
   "execution_count": 21,
   "metadata": {},
   "outputs": [
    {
     "name": "stdout",
     "output_type": "stream",
     "text": [
      "13\n",
      "[12 11 10  9  8  7  6  5  4  3  2  1  0]\n"
     ]
    }
   ],
   "source": [
    "# Задание 1 \n",
    "import numpy as np\n",
    "M=int(input())\n",
    "m = np.arange(M-1,-1,-1)\n",
    "print(m)"
   ]
  },
  {
   "cell_type": "code",
   "execution_count": null,
   "metadata": {},
   "outputs": [],
   "source": []
  },
  {
   "cell_type": "code",
   "execution_count": 22,
   "metadata": {},
   "outputs": [
    {
     "name": "stdout",
     "output_type": "stream",
     "text": [
      "[[12  0  0  0  0  0  0  0  0  0  0  0  0]\n",
      " [ 0 11  0  0  0  0  0  0  0  0  0  0  0]\n",
      " [ 0  0 10  0  0  0  0  0  0  0  0  0  0]\n",
      " [ 0  0  0  9  0  0  0  0  0  0  0  0  0]\n",
      " [ 0  0  0  0  8  0  0  0  0  0  0  0  0]\n",
      " [ 0  0  0  0  0  7  0  0  0  0  0  0  0]\n",
      " [ 0  0  0  0  0  0  6  0  0  0  0  0  0]\n",
      " [ 0  0  0  0  0  0  0  5  0  0  0  0  0]\n",
      " [ 0  0  0  0  0  0  0  0  4  0  0  0  0]\n",
      " [ 0  0  0  0  0  0  0  0  0  3  0  0  0]\n",
      " [ 0  0  0  0  0  0  0  0  0  0  2  0  0]\n",
      " [ 0  0  0  0  0  0  0  0  0  0  0  1  0]\n",
      " [ 0  0  0  0  0  0  0  0  0  0  0  0  0]]\n"
     ]
    }
   ],
   "source": [
    "# Задание 2\n",
    "m_d = np.diag(m, k = 0)\n",
    "print(m_d)"
   ]
  },
  {
   "cell_type": "code",
   "execution_count": 23,
   "metadata": {},
   "outputs": [
    {
     "data": {
      "text/plain": [
       "78"
      ]
     },
     "execution_count": 23,
     "metadata": {},
     "output_type": "execute_result"
    }
   ],
   "source": [
    "np.sum(np.diag(m, k = 0))"
   ]
  },
  {
   "cell_type": "code",
   "execution_count": null,
   "metadata": {},
   "outputs": [],
   "source": []
  },
  {
   "cell_type": "code",
   "execution_count": 24,
   "metadata": {},
   "outputs": [],
   "source": [
    "# Задание 3\n",
    "A = np.array([[4,2,1], [1,3,0], [0,5,4]])\n",
    "B = np.array([4,12,-3])"
   ]
  },
  {
   "cell_type": "code",
   "execution_count": 25,
   "metadata": {},
   "outputs": [
    {
     "data": {
      "text/plain": [
       "array([ 0.46666667,  3.84444444, -5.55555556])"
      ]
     },
     "execution_count": 25,
     "metadata": {},
     "output_type": "execute_result"
    }
   ],
   "source": [
    "from numpy import linalg\n",
    "linalg.solve(A,B)"
   ]
  },
  {
   "cell_type": "code",
   "execution_count": 26,
   "metadata": {},
   "outputs": [
    {
     "data": {
      "text/plain": [
       "True"
      ]
     },
     "execution_count": 26,
     "metadata": {},
     "output_type": "execute_result"
    }
   ],
   "source": [
    "np.allclose(np.dot(A,linalg.solve(A,B)),B)"
   ]
  },
  {
   "cell_type": "code",
   "execution_count": null,
   "metadata": {},
   "outputs": [],
   "source": []
  },
  {
   "cell_type": "code",
   "execution_count": 7,
   "metadata": {},
   "outputs": [],
   "source": [
    "# Задание 4\n",
    "import pandas as pd"
   ]
  },
  {
   "cell_type": "code",
   "execution_count": 8,
   "metadata": {},
   "outputs": [
    {
     "data": {
      "text/html": [
       "<div>\n",
       "<style scoped>\n",
       "    .dataframe tbody tr th:only-of-type {\n",
       "        vertical-align: middle;\n",
       "    }\n",
       "\n",
       "    .dataframe tbody tr th {\n",
       "        vertical-align: top;\n",
       "    }\n",
       "\n",
       "    .dataframe thead th {\n",
       "        text-align: right;\n",
       "    }\n",
       "</style>\n",
       "<table border=\"1\" class=\"dataframe\">\n",
       "  <thead>\n",
       "    <tr style=\"text-align: right;\">\n",
       "      <th></th>\n",
       "      <th>timestamp</th>\n",
       "      <th>visit_id</th>\n",
       "      <th>url</th>\n",
       "      <th>region</th>\n",
       "      <th>user_id</th>\n",
       "      <th>traffic_source</th>\n",
       "    </tr>\n",
       "  </thead>\n",
       "  <tbody>\n",
       "    <tr>\n",
       "      <th>0</th>\n",
       "      <td>1549980692</td>\n",
       "      <td>e3b0c44298</td>\n",
       "      <td>https://host.ru/3c19b4ef7371864fa3</td>\n",
       "      <td>Russia</td>\n",
       "      <td>b1613cc09f</td>\n",
       "      <td>yandex</td>\n",
       "    </tr>\n",
       "    <tr>\n",
       "      <th>1</th>\n",
       "      <td>1549980704</td>\n",
       "      <td>6e340b9cff</td>\n",
       "      <td>https://host.ru/c8d9213a31839f9a3a</td>\n",
       "      <td>Russia</td>\n",
       "      <td>4c3ec14bee</td>\n",
       "      <td>direct</td>\n",
       "    </tr>\n",
       "    <tr>\n",
       "      <th>2</th>\n",
       "      <td>1549980715</td>\n",
       "      <td>96a296d224</td>\n",
       "      <td>https://host.ru/b8b58337d272ee7b15</td>\n",
       "      <td>Russia</td>\n",
       "      <td>a8c40697fb</td>\n",
       "      <td>yandex</td>\n",
       "    </tr>\n",
       "    <tr>\n",
       "      <th>3</th>\n",
       "      <td>1549980725</td>\n",
       "      <td>709e80c884</td>\n",
       "      <td>https://host.ru/b8b58337d272ee7b15</td>\n",
       "      <td>Russia</td>\n",
       "      <td>521ac1d6a0</td>\n",
       "      <td>yandex</td>\n",
       "    </tr>\n",
       "    <tr>\n",
       "      <th>4</th>\n",
       "      <td>1549980736</td>\n",
       "      <td>df3f619804</td>\n",
       "      <td>https://host.ru/b8b58337d272ee7b15</td>\n",
       "      <td>Russia</td>\n",
       "      <td>d7323c571c</td>\n",
       "      <td>yandex</td>\n",
       "    </tr>\n",
       "  </tbody>\n",
       "</table>\n",
       "</div>"
      ],
      "text/plain": [
       "    timestamp    visit_id                                 url  region  \\\n",
       "0  1549980692  e3b0c44298  https://host.ru/3c19b4ef7371864fa3  Russia   \n",
       "1  1549980704  6e340b9cff  https://host.ru/c8d9213a31839f9a3a  Russia   \n",
       "2  1549980715  96a296d224  https://host.ru/b8b58337d272ee7b15  Russia   \n",
       "3  1549980725  709e80c884  https://host.ru/b8b58337d272ee7b15  Russia   \n",
       "4  1549980736  df3f619804  https://host.ru/b8b58337d272ee7b15  Russia   \n",
       "\n",
       "      user_id traffic_source  \n",
       "0  b1613cc09f         yandex  \n",
       "1  4c3ec14bee         direct  \n",
       "2  a8c40697fb         yandex  \n",
       "3  521ac1d6a0         yandex  \n",
       "4  d7323c571c         yandex  "
      ]
     },
     "execution_count": 8,
     "metadata": {},
     "output_type": "execute_result"
    }
   ],
   "source": [
    "l = pd.read_csv('visit_log.csv', sep=';')\n",
    "l.head()"
   ]
  },
  {
   "cell_type": "code",
   "execution_count": 9,
   "metadata": {},
   "outputs": [
    {
     "data": {
      "text/html": [
       "<div>\n",
       "<style scoped>\n",
       "    .dataframe tbody tr th:only-of-type {\n",
       "        vertical-align: middle;\n",
       "    }\n",
       "\n",
       "    .dataframe tbody tr th {\n",
       "        vertical-align: top;\n",
       "    }\n",
       "\n",
       "    .dataframe thead th {\n",
       "        text-align: right;\n",
       "    }\n",
       "</style>\n",
       "<table border=\"1\" class=\"dataframe\">\n",
       "  <thead>\n",
       "    <tr style=\"text-align: right;\">\n",
       "      <th></th>\n",
       "      <th>traffic_source</th>\n",
       "      <th>region</th>\n",
       "    </tr>\n",
       "  </thead>\n",
       "  <tbody>\n",
       "    <tr>\n",
       "      <th>0</th>\n",
       "      <td>yandex</td>\n",
       "      <td>Russia</td>\n",
       "    </tr>\n",
       "    <tr>\n",
       "      <th>1</th>\n",
       "      <td>direct</td>\n",
       "      <td>Russia</td>\n",
       "    </tr>\n",
       "    <tr>\n",
       "      <th>2</th>\n",
       "      <td>yandex</td>\n",
       "      <td>Russia</td>\n",
       "    </tr>\n",
       "    <tr>\n",
       "      <th>3</th>\n",
       "      <td>yandex</td>\n",
       "      <td>Russia</td>\n",
       "    </tr>\n",
       "    <tr>\n",
       "      <th>4</th>\n",
       "      <td>yandex</td>\n",
       "      <td>Russia</td>\n",
       "    </tr>\n",
       "    <tr>\n",
       "      <th>5</th>\n",
       "      <td>yandex</td>\n",
       "      <td>Russia</td>\n",
       "    </tr>\n",
       "    <tr>\n",
       "      <th>6</th>\n",
       "      <td>paid</td>\n",
       "      <td>Russia</td>\n",
       "    </tr>\n",
       "    <tr>\n",
       "      <th>7</th>\n",
       "      <td>direct</td>\n",
       "      <td>Russia</td>\n",
       "    </tr>\n",
       "    <tr>\n",
       "      <th>8</th>\n",
       "      <td>direct</td>\n",
       "      <td>China</td>\n",
       "    </tr>\n",
       "    <tr>\n",
       "      <th>9</th>\n",
       "      <td>email</td>\n",
       "      <td>Russia</td>\n",
       "    </tr>\n",
       "  </tbody>\n",
       "</table>\n",
       "</div>"
      ],
      "text/plain": [
       "  traffic_source  region\n",
       "0         yandex  Russia\n",
       "1         direct  Russia\n",
       "2         yandex  Russia\n",
       "3         yandex  Russia\n",
       "4         yandex  Russia\n",
       "5         yandex  Russia\n",
       "6           paid  Russia\n",
       "7         direct  Russia\n",
       "8         direct   China\n",
       "9          email  Russia"
      ]
     },
     "execution_count": 9,
     "metadata": {},
     "output_type": "execute_result"
    }
   ],
   "source": [
    "l.loc[:,['traffic_source','region']].head(10)"
   ]
  },
  {
   "cell_type": "code",
   "execution_count": 10,
   "metadata": {},
   "outputs": [],
   "source": [
    "def filtered(row):\n",
    "    if row['traffic_source']=='yandex':\n",
    "        return 'organic'\n",
    "    elif row['traffic_source']=='google':\n",
    "        return 'organic'\n",
    "    elif row['traffic_source']=='paid':\n",
    "        if row['region']=='Russia':\n",
    "            return 'ad'\n",
    "        else:\n",
    "            return 'other'\n",
    "    elif row['traffic_source']=='email':\n",
    "        if row['region']=='Russia':\n",
    "            return 'ad'\n",
    "        else:\n",
    "            return 'other'\n",
    "    else:\n",
    "        return row['traffic_source']"
   ]
  },
  {
   "cell_type": "code",
   "execution_count": 11,
   "metadata": {},
   "outputs": [
    {
     "data": {
      "text/html": [
       "<div>\n",
       "<style scoped>\n",
       "    .dataframe tbody tr th:only-of-type {\n",
       "        vertical-align: middle;\n",
       "    }\n",
       "\n",
       "    .dataframe tbody tr th {\n",
       "        vertical-align: top;\n",
       "    }\n",
       "\n",
       "    .dataframe thead th {\n",
       "        text-align: right;\n",
       "    }\n",
       "</style>\n",
       "<table border=\"1\" class=\"dataframe\">\n",
       "  <thead>\n",
       "    <tr style=\"text-align: right;\">\n",
       "      <th></th>\n",
       "      <th>timestamp</th>\n",
       "      <th>visit_id</th>\n",
       "      <th>url</th>\n",
       "      <th>region</th>\n",
       "      <th>user_id</th>\n",
       "      <th>traffic_source</th>\n",
       "      <th>source_type</th>\n",
       "    </tr>\n",
       "  </thead>\n",
       "  <tbody>\n",
       "    <tr>\n",
       "      <th>0</th>\n",
       "      <td>1549980692</td>\n",
       "      <td>e3b0c44298</td>\n",
       "      <td>https://host.ru/3c19b4ef7371864fa3</td>\n",
       "      <td>Russia</td>\n",
       "      <td>b1613cc09f</td>\n",
       "      <td>yandex</td>\n",
       "      <td>organic</td>\n",
       "    </tr>\n",
       "    <tr>\n",
       "      <th>1</th>\n",
       "      <td>1549980704</td>\n",
       "      <td>6e340b9cff</td>\n",
       "      <td>https://host.ru/c8d9213a31839f9a3a</td>\n",
       "      <td>Russia</td>\n",
       "      <td>4c3ec14bee</td>\n",
       "      <td>direct</td>\n",
       "      <td>direct</td>\n",
       "    </tr>\n",
       "    <tr>\n",
       "      <th>2</th>\n",
       "      <td>1549980715</td>\n",
       "      <td>96a296d224</td>\n",
       "      <td>https://host.ru/b8b58337d272ee7b15</td>\n",
       "      <td>Russia</td>\n",
       "      <td>a8c40697fb</td>\n",
       "      <td>yandex</td>\n",
       "      <td>organic</td>\n",
       "    </tr>\n",
       "    <tr>\n",
       "      <th>3</th>\n",
       "      <td>1549980725</td>\n",
       "      <td>709e80c884</td>\n",
       "      <td>https://host.ru/b8b58337d272ee7b15</td>\n",
       "      <td>Russia</td>\n",
       "      <td>521ac1d6a0</td>\n",
       "      <td>yandex</td>\n",
       "      <td>organic</td>\n",
       "    </tr>\n",
       "    <tr>\n",
       "      <th>4</th>\n",
       "      <td>1549980736</td>\n",
       "      <td>df3f619804</td>\n",
       "      <td>https://host.ru/b8b58337d272ee7b15</td>\n",
       "      <td>Russia</td>\n",
       "      <td>d7323c571c</td>\n",
       "      <td>yandex</td>\n",
       "      <td>organic</td>\n",
       "    </tr>\n",
       "    <tr>\n",
       "      <th>5</th>\n",
       "      <td>1549980742</td>\n",
       "      <td>8855508aad</td>\n",
       "      <td>https://host.ru/df646c3676cc259fa0</td>\n",
       "      <td>Russia</td>\n",
       "      <td>fc43898e47</td>\n",
       "      <td>yandex</td>\n",
       "      <td>organic</td>\n",
       "    </tr>\n",
       "    <tr>\n",
       "      <th>6</th>\n",
       "      <td>1549980742</td>\n",
       "      <td>b0f66adc83</td>\n",
       "      <td>https://host.ru/b8b58337d272ee7b15</td>\n",
       "      <td>Russia</td>\n",
       "      <td>13fc55e781</td>\n",
       "      <td>paid</td>\n",
       "      <td>ad</td>\n",
       "    </tr>\n",
       "    <tr>\n",
       "      <th>7</th>\n",
       "      <td>1549980754</td>\n",
       "      <td>837885c8f8</td>\n",
       "      <td>https://host.ru/108ce4b365afb7b88e</td>\n",
       "      <td>Russia</td>\n",
       "      <td>cb5082b6f6</td>\n",
       "      <td>direct</td>\n",
       "      <td>direct</td>\n",
       "    </tr>\n",
       "    <tr>\n",
       "      <th>8</th>\n",
       "      <td>1549980760</td>\n",
       "      <td>af5570f5a1</td>\n",
       "      <td>https://host.ru/3004a8273caeef2867</td>\n",
       "      <td>China</td>\n",
       "      <td>45664f7af2</td>\n",
       "      <td>direct</td>\n",
       "      <td>direct</td>\n",
       "    </tr>\n",
       "    <tr>\n",
       "      <th>9</th>\n",
       "      <td>1549980765</td>\n",
       "      <td>3e7077fd2f</td>\n",
       "      <td>https://host.ru/df646c3676cc259fa0</td>\n",
       "      <td>Russia</td>\n",
       "      <td>6f9de8c8b6</td>\n",
       "      <td>email</td>\n",
       "      <td>ad</td>\n",
       "    </tr>\n",
       "  </tbody>\n",
       "</table>\n",
       "</div>"
      ],
      "text/plain": [
       "    timestamp    visit_id                                 url  region  \\\n",
       "0  1549980692  e3b0c44298  https://host.ru/3c19b4ef7371864fa3  Russia   \n",
       "1  1549980704  6e340b9cff  https://host.ru/c8d9213a31839f9a3a  Russia   \n",
       "2  1549980715  96a296d224  https://host.ru/b8b58337d272ee7b15  Russia   \n",
       "3  1549980725  709e80c884  https://host.ru/b8b58337d272ee7b15  Russia   \n",
       "4  1549980736  df3f619804  https://host.ru/b8b58337d272ee7b15  Russia   \n",
       "5  1549980742  8855508aad  https://host.ru/df646c3676cc259fa0  Russia   \n",
       "6  1549980742  b0f66adc83  https://host.ru/b8b58337d272ee7b15  Russia   \n",
       "7  1549980754  837885c8f8  https://host.ru/108ce4b365afb7b88e  Russia   \n",
       "8  1549980760  af5570f5a1  https://host.ru/3004a8273caeef2867   China   \n",
       "9  1549980765  3e7077fd2f  https://host.ru/df646c3676cc259fa0  Russia   \n",
       "\n",
       "      user_id traffic_source source_type  \n",
       "0  b1613cc09f         yandex     organic  \n",
       "1  4c3ec14bee         direct      direct  \n",
       "2  a8c40697fb         yandex     organic  \n",
       "3  521ac1d6a0         yandex     organic  \n",
       "4  d7323c571c         yandex     organic  \n",
       "5  fc43898e47         yandex     organic  \n",
       "6  13fc55e781           paid          ad  \n",
       "7  cb5082b6f6         direct      direct  \n",
       "8  45664f7af2         direct      direct  \n",
       "9  6f9de8c8b6          email          ad  "
      ]
     },
     "execution_count": 11,
     "metadata": {},
     "output_type": "execute_result"
    }
   ],
   "source": [
    "l['source_type']=l.apply(filtered, axis=1)\n",
    "l.head(10)"
   ]
  },
  {
   "cell_type": "code",
   "execution_count": null,
   "metadata": {},
   "outputs": [],
   "source": []
  },
  {
   "cell_type": "code",
   "execution_count": 12,
   "metadata": {},
   "outputs": [],
   "source": [
    "# Задание 5\n",
    "import pandas as pd\n",
    "import re"
   ]
  },
  {
   "cell_type": "code",
   "execution_count": 13,
   "metadata": {},
   "outputs": [
    {
     "data": {
      "text/html": [
       "<div>\n",
       "<style scoped>\n",
       "    .dataframe tbody tr th:only-of-type {\n",
       "        vertical-align: middle;\n",
       "    }\n",
       "\n",
       "    .dataframe tbody tr th {\n",
       "        vertical-align: top;\n",
       "    }\n",
       "\n",
       "    .dataframe thead th {\n",
       "        text-align: right;\n",
       "    }\n",
       "</style>\n",
       "<table border=\"1\" class=\"dataframe\">\n",
       "  <thead>\n",
       "    <tr style=\"text-align: right;\">\n",
       "      <th></th>\n",
       "      <th>url</th>\n",
       "    </tr>\n",
       "  </thead>\n",
       "  <tbody>\n",
       "    <tr>\n",
       "      <th>0</th>\n",
       "      <td>/world/</td>\n",
       "    </tr>\n",
       "    <tr>\n",
       "      <th>1</th>\n",
       "      <td>/latest/</td>\n",
       "    </tr>\n",
       "    <tr>\n",
       "      <th>2</th>\n",
       "      <td>/?updated=top</td>\n",
       "    </tr>\n",
       "    <tr>\n",
       "      <th>3</th>\n",
       "      <td>/politics/36188461-s-marta-zhizn-rossiyan-susc...</td>\n",
       "    </tr>\n",
       "    <tr>\n",
       "      <th>4</th>\n",
       "      <td>/world/36007585-tramp-pridumal-kak-reshit-ukra...</td>\n",
       "    </tr>\n",
       "  </tbody>\n",
       "</table>\n",
       "</div>"
      ],
      "text/plain": [
       "                                                 url\n",
       "0                                            /world/\n",
       "1                                           /latest/\n",
       "2                                      /?updated=top\n",
       "3  /politics/36188461-s-marta-zhizn-rossiyan-susc...\n",
       "4  /world/36007585-tramp-pridumal-kak-reshit-ukra..."
      ]
     },
     "execution_count": 13,
     "metadata": {},
     "output_type": "execute_result"
    }
   ],
   "source": [
    "URLs = pd.read_table('URLs.txt')\n",
    "URLs.head()"
   ]
  },
  {
   "cell_type": "code",
   "execution_count": 15,
   "metadata": {},
   "outputs": [
    {
     "data": {
      "text/html": [
       "<div>\n",
       "<style scoped>\n",
       "    .dataframe tbody tr th:only-of-type {\n",
       "        vertical-align: middle;\n",
       "    }\n",
       "\n",
       "    .dataframe tbody tr th {\n",
       "        vertical-align: top;\n",
       "    }\n",
       "\n",
       "    .dataframe thead th {\n",
       "        text-align: right;\n",
       "    }\n",
       "</style>\n",
       "<table border=\"1\" class=\"dataframe\">\n",
       "  <thead>\n",
       "    <tr style=\"text-align: right;\">\n",
       "      <th></th>\n",
       "      <th>url</th>\n",
       "    </tr>\n",
       "  </thead>\n",
       "  <tbody>\n",
       "    <tr>\n",
       "      <th>3</th>\n",
       "      <td>/politics/36188461-s-marta-zhizn-rossiyan-susc...</td>\n",
       "    </tr>\n",
       "    <tr>\n",
       "      <th>4</th>\n",
       "      <td>/world/36007585-tramp-pridumal-kak-reshit-ukra...</td>\n",
       "    </tr>\n",
       "    <tr>\n",
       "      <th>5</th>\n",
       "      <td>/science/36157853-nasa-sobiraet-ekstrennuyu-pr...</td>\n",
       "    </tr>\n",
       "    <tr>\n",
       "      <th>6</th>\n",
       "      <td>/video/36001498-poyavilis-pervye-podrobnosti-g...</td>\n",
       "    </tr>\n",
       "    <tr>\n",
       "      <th>7</th>\n",
       "      <td>/world/36007585-tramp-pridumal-kak-reshit-ukra...</td>\n",
       "    </tr>\n",
       "  </tbody>\n",
       "</table>\n",
       "</div>"
      ],
      "text/plain": [
       "                                                 url\n",
       "3  /politics/36188461-s-marta-zhizn-rossiyan-susc...\n",
       "4  /world/36007585-tramp-pridumal-kak-reshit-ukra...\n",
       "5  /science/36157853-nasa-sobiraet-ekstrennuyu-pr...\n",
       "6  /video/36001498-poyavilis-pervye-podrobnosti-g...\n",
       "7  /world/36007585-tramp-pridumal-kak-reshit-ukra..."
      ]
     },
     "execution_count": 15,
     "metadata": {},
     "output_type": "execute_result"
    }
   ],
   "source": [
    "URLs[URLs.url.str.contains('/[0-9]{8}-', regex=True)].head()"
   ]
  },
  {
   "cell_type": "code",
   "execution_count": null,
   "metadata": {},
   "outputs": [],
   "source": []
  },
  {
   "cell_type": "code",
   "execution_count": null,
   "metadata": {},
   "outputs": [],
   "source": [
    "# Задание 6"
   ]
  },
  {
   "cell_type": "code",
   "execution_count": 16,
   "metadata": {},
   "outputs": [
    {
     "name": "stdout",
     "output_type": "stream",
     "text": [
      "Requirement already satisfied: pymystem3 in c:\\users\\dell\\anaconda3\\lib\\site-packages (0.2.0)\n",
      "Requirement already satisfied: requests in c:\\users\\dell\\anaconda3\\lib\\site-packages (from pymystem3) (2.24.0)\n",
      "Requirement already satisfied: chardet<4,>=3.0.2 in c:\\users\\dell\\anaconda3\\lib\\site-packages (from requests->pymystem3) (3.0.4)\n",
      "Requirement already satisfied: urllib3!=1.25.0,!=1.25.1,<1.26,>=1.21.1 in c:\\users\\dell\\anaconda3\\lib\\site-packages (from requests->pymystem3) (1.25.9)\n",
      "Requirement already satisfied: idna<3,>=2.5 in c:\\users\\dell\\anaconda3\\lib\\site-packages (from requests->pymystem3) (2.10)\n",
      "Requirement already satisfied: certifi>=2017.4.17 in c:\\users\\dell\\anaconda3\\lib\\site-packages (from requests->pymystem3) (2020.6.20)\n",
      "Note: you may need to restart the kernel to use updated packages.\n"
     ]
    }
   ],
   "source": [
    "pip install pymystem3"
   ]
  },
  {
   "cell_type": "code",
   "execution_count": 17,
   "metadata": {},
   "outputs": [],
   "source": [
    "from pymystem3 import Mystem\n",
    "import pandas as pd"
   ]
  },
  {
   "cell_type": "code",
   "execution_count": 18,
   "metadata": {},
   "outputs": [],
   "source": [
    "d = pd.DataFrame({\n",
    "    'keyword': ['курс гривны к рублю', 'доллары в рубли', '100 долларов в рублях', 'курс рубля'],\n",
    "    'shows': [125076, 114173, 97534, 53546],\n",
    "})"
   ]
  },
  {
   "cell_type": "code",
   "execution_count": 19,
   "metadata": {},
   "outputs": [],
   "source": [
    "def lem_f(row):\n",
    "    m=Mystem()\n",
    "    lemma = m.lemmatize(row['keyword'])\n",
    "    string = ' '.join(lemma)\n",
    "    return string"
   ]
  },
  {
   "cell_type": "code",
   "execution_count": 20,
   "metadata": {},
   "outputs": [
    {
     "data": {
      "text/html": [
       "<div>\n",
       "<style scoped>\n",
       "    .dataframe tbody tr th:only-of-type {\n",
       "        vertical-align: middle;\n",
       "    }\n",
       "\n",
       "    .dataframe tbody tr th {\n",
       "        vertical-align: top;\n",
       "    }\n",
       "\n",
       "    .dataframe thead th {\n",
       "        text-align: right;\n",
       "    }\n",
       "</style>\n",
       "<table border=\"1\" class=\"dataframe\">\n",
       "  <thead>\n",
       "    <tr style=\"text-align: right;\">\n",
       "      <th></th>\n",
       "      <th>keyword</th>\n",
       "      <th>shows</th>\n",
       "      <th>lemmas</th>\n",
       "    </tr>\n",
       "  </thead>\n",
       "  <tbody>\n",
       "    <tr>\n",
       "      <th>0</th>\n",
       "      <td>курс гривны к рублю</td>\n",
       "      <td>125076</td>\n",
       "      <td>курс   гривна   к   рубль \\n</td>\n",
       "    </tr>\n",
       "    <tr>\n",
       "      <th>1</th>\n",
       "      <td>доллары в рубли</td>\n",
       "      <td>114173</td>\n",
       "      <td>доллар   в   рубль \\n</td>\n",
       "    </tr>\n",
       "    <tr>\n",
       "      <th>2</th>\n",
       "      <td>100 долларов в рублях</td>\n",
       "      <td>97534</td>\n",
       "      <td>100   доллар   в   рубль \\n</td>\n",
       "    </tr>\n",
       "    <tr>\n",
       "      <th>3</th>\n",
       "      <td>курс рубля</td>\n",
       "      <td>53546</td>\n",
       "      <td>курс   рубль \\n</td>\n",
       "    </tr>\n",
       "  </tbody>\n",
       "</table>\n",
       "</div>"
      ],
      "text/plain": [
       "                 keyword   shows                        lemmas\n",
       "0    курс гривны к рублю  125076  курс   гривна   к   рубль \\n\n",
       "1        доллары в рубли  114173         доллар   в   рубль \\n\n",
       "2  100 долларов в рублях   97534   100   доллар   в   рубль \\n\n",
       "3             курс рубля   53546               курс   рубль \\n"
      ]
     },
     "execution_count": 20,
     "metadata": {},
     "output_type": "execute_result"
    }
   ],
   "source": [
    "d['lemmas']=d.apply(lem_f, axis=1)\n",
    "d.head()"
   ]
  },
  {
   "cell_type": "code",
   "execution_count": null,
   "metadata": {},
   "outputs": [],
   "source": []
  }
 ],
 "metadata": {
  "kernelspec": {
   "display_name": "Python 3",
   "language": "python",
   "name": "python3"
  },
  "language_info": {
   "codemirror_mode": {
    "name": "ipython",
    "version": 3
   },
   "file_extension": ".py",
   "mimetype": "text/x-python",
   "name": "python",
   "nbconvert_exporter": "python",
   "pygments_lexer": "ipython3",
   "version": "3.8.3"
  }
 },
 "nbformat": 4,
 "nbformat_minor": 4
}
