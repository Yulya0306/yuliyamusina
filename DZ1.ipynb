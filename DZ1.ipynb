{
 "cells": [
  {
   "cell_type": "code",
   "execution_count": 8,
   "metadata": {},
   "outputs": [
    {
     "name": "stdout",
     "output_type": "stream",
     "text": [
      "Фразы равной длины\n"
     ]
    }
   ],
   "source": [
    "# Задание 1\n",
    "phrase_1 = '640Кб должно хватить для любых задач. Билл Гейтс (по легенде)'\n",
    "phrase_2 = '640Кб должно хватить для любых задач. Билл Гейтс (по легенде)'\n",
    "if len(phrase_1) < len(phrase_2):\n",
    "    print('Фраза 2 длиннее фразы 1')\n",
    "elif len(phrase_1) > len(phrase_2):\n",
    "    print('Фраза 1 длиннее фразы 2')\n",
    "else:\n",
    "    print('Фразы равной длины')"
   ]
  },
  {
   "cell_type": "code",
   "execution_count": 9,
   "metadata": {},
   "outputs": [
    {
     "name": "stdout",
     "output_type": "stream",
     "text": [
      "Фраза 2 длиннее фразы 1\n"
     ]
    }
   ],
   "source": [
    "# Задание 1\n",
    "phrase_1 = '640Кб должно хватить для любых задач. Билл Гейтс (по легенде)'\n",
    "phrase_2 = 'Насколько проще было бы писать программы, если бы не заказчики'\n",
    "if len(phrase_1) < len(phrase_2):\n",
    "    print('Фраза 2 длиннее фразы 1')\n",
    "elif len(phrase_1) > len(phrase_2):\n",
    "    print('Фраза 1 длиннее фразы 2')\n",
    "else:\n",
    "    print('Фразы равной длины')"
   ]
  },
  {
   "cell_type": "code",
   "execution_count": 10,
   "metadata": {},
   "outputs": [
    {
     "name": "stdout",
     "output_type": "stream",
     "text": [
      "Фраза 1 длиннее фразы 2\n"
     ]
    }
   ],
   "source": [
    "# Задание 1\n",
    "phrase_2 = '640Кб должно хватить для любых задач. Билл Гейтс (по легенде)'\n",
    "phrase_1 = 'Насколько проще было бы писать программы, если бы не заказчики'\n",
    "if len(phrase_1) < len(phrase_2):\n",
    "    print('Фраза 2 длиннее фразы 1')\n",
    "elif len(phrase_1) > len(phrase_2):\n",
    "    print('Фраза 1 длиннее фразы 2')\n",
    "else:\n",
    "    print('Фразы равной длины')"
   ]
  },
  {
   "cell_type": "code",
   "execution_count": 15,
   "metadata": {},
   "outputs": [
    {
     "name": "stdout",
     "output_type": "stream",
     "text": [
      "Введите год 2004\n",
      "Високосный год\n"
     ]
    }
   ],
   "source": [
    "# Задание 2 \n",
    "year = int(input(\"Введите год \"))\n",
    "if (year % 4 == 0):\n",
    "    print('Високосный год')\n",
    "else:\n",
    "    print('Обычный год')"
   ]
  },
  {
   "cell_type": "code",
   "execution_count": 16,
   "metadata": {},
   "outputs": [
    {
     "name": "stdout",
     "output_type": "stream",
     "text": [
      "Введите день:3\n",
      "Введите месяц:6\n",
      "Близнецы\n"
     ]
    }
   ],
   "source": [
    "# Задание 3 \n",
    "date=int(input(\"Введите день:\"))\n",
    "month=int(input(\"Введите месяц:\"))\n",
    "if (date>=21 and date<=31 and month==1) or( month==2 and date>=1 and date<=18): print(\"Водолей\")\n",
    "elif (date>=19 and date<=29 and month==2) or( month==3 and date>=1 and date<=20): print(\"Рыбы\")\n",
    "elif (date>=21 and date<=31 and month==3) or( month==4 and date>=1 and date<=19): print(\"Овен\")\n",
    "elif (date>=20 and date<=30 and month==4) or( month==5 and date>=1 and date<=20): print(\"Телец\")\n",
    "elif (date>=21 and date<=31 and month==5) or( month==6 and date>=1 and date<=21): print(\"Близнецы\")\n",
    "elif (date>=22 and date<=30 and month==6) or( month==7 and date>=1 and date<=22): print(\"Рак\")\n",
    "elif (date>=23 and date<=31 and month==7) or( month==8 and date>=1 and date<=22): print(\"Лев\")\n",
    "elif (date>=23 and date<=31 and month==8) or( month==9 and date>=1 and date<=22): print(\"Дева\")\n",
    "elif (date>=23 and date<=30 and month==9) or( month==10 and date>=1 and date<=23): print(\"Весы\")\n",
    "elif (date>=24 and date<=31 and month==10) or( month==11 and date>=1 and date<=22): print(\"Скорпион\")\n",
    "elif (date>=23 and date<=30 and month==11) or( month==12 and date>=1 and date<=21): print(\"Стрелец\")\n",
    "elif (date>=22 and date<=31 and month==12) or( month==1 and date>=1 and date<=20): print(\"Козерог\") "
   ]
  },
  {
   "cell_type": "code",
   "execution_count": 20,
   "metadata": {},
   "outputs": [
    {
     "name": "stdout",
     "output_type": "stream",
     "text": [
      "Упаковка для лыж\n"
     ]
    }
   ],
   "source": [
    "# Задание 4 \n",
    "width = 10\n",
    "length = 205\n",
    "height = 5\n",
    "if width < 15 and length < 15 and height < 15:\n",
    "    print('Коробка №1')\n",
    "elif (width > 15 and width < 50) or (length > 15 and length < 50) or (height > 15 and height < 50):\n",
    "    print('Коробка №2')\n",
    "elif length > 200:\n",
    "    print('Упаковка для лыж')\n",
    "else:\n",
    "    print('Стандартная коробка №3')"
   ]
  },
  {
   "cell_type": "code",
   "execution_count": 24,
   "metadata": {},
   "outputs": [
    {
     "name": "stdout",
     "output_type": "stream",
     "text": [
      "Введите номер билета 665773\n",
      "Счастливый билет\n"
     ]
    }
   ],
   "source": [
    "# Задание 5 \n",
    "n = input(\"Введите номер билета \")\n",
    "if sum([int(char) for char in n[:3]]) == sum([int(char) for char in n[-3:]]):\n",
    "    print('Счастливый билет')\n",
    "else:\n",
    "    print('Несчастливый билет')"
   ]
  },
  {
   "cell_type": "code",
   "execution_count": 26,
   "metadata": {},
   "outputs": [
    {
     "name": "stdout",
     "output_type": "stream",
     "text": [
      "Введите тип фигуры =Прямоугольник\n",
      "Введите сторону a =65\n",
      "Введите сторону b =54\n",
      "3510.0\n"
     ]
    }
   ],
   "source": [
    "# Задание 6\n",
    "import math   \n",
    "fig=str(input(\"Введите тип фигуры =\")) \n",
    "if fig==\"круг\":      \n",
    "    r=float(input(\"Введите радиус r =\"))      \n",
    "    S=math.pi*(r**2)   \n",
    "    print(S)\n",
    "elif fig==\"Треугольник\":       \n",
    "    a=float(input(\"Введите сторону a =\"))      \n",
    "    b=float(input(\"Введите сторону b =\"))      \n",
    "    c=float(input(\"Введите сторону c =\"))      \n",
    "    p=(a+b+c)/2        \n",
    "    S = math.sqrt((p*(p-a)*(p-b)*(p-c)))\n",
    "    print(S)\n",
    "elif fig==\"Прямоугольник\":       \n",
    "    a=float(input(\"Введите сторону a =\"))      \n",
    "    b=float(input(\"Введите сторону b =\"))      \n",
    "    S=a*b  \n",
    "    print(S)"
   ]
  }
 ],
 "metadata": {
  "kernelspec": {
   "display_name": "Python 3",
   "language": "python",
   "name": "python3"
  },
  "language_info": {
   "codemirror_mode": {
    "name": "ipython",
    "version": 3
   },
   "file_extension": ".py",
   "mimetype": "text/x-python",
   "name": "python",
   "nbconvert_exporter": "python",
   "pygments_lexer": "ipython3",
   "version": "3.8.3"
  }
 },
 "nbformat": 4,
 "nbformat_minor": 4
}
