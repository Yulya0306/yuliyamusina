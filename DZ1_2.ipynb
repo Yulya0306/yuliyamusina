{
 "cells": [
  {
   "cell_type": "code",
   "execution_count": 7,
   "metadata": {},
   "outputs": [
    {
     "name": "stdout",
     "output_type": "stream",
     "text": [
      "Введите словоtest\n",
      "es\n"
     ]
    }
   ],
   "source": [
    "# Задание 1 \n",
    "word = input(\"Введите слово\")\n",
    "if (len(word) % 2) <= 0:\n",
    "    print(word[(len(word) // 2) - 1] + word[(len(word) // 2)])\n",
    "else:\n",
    "    print(word[(len(word) // 2)])"
   ]
  },
  {
   "cell_type": "code",
   "execution_count": 8,
   "metadata": {},
   "outputs": [
    {
     "name": "stdout",
     "output_type": "stream",
     "text": [
      "Введите словоtesting\n",
      "t\n"
     ]
    }
   ],
   "source": [
    "# Задание 1 \n",
    "word = input(\"Введите слово\")\n",
    "if (len(word) % 2) <= 0:\n",
    "    print(word[(len(word) // 2) - 1] + word[(len(word) // 2)])\n",
    "else:\n",
    "    print(word[(len(word) // 2)])"
   ]
  },
  {
   "cell_type": "code",
   "execution_count": 11,
   "metadata": {},
   "outputs": [
    {
     "name": "stdout",
     "output_type": "stream",
     "text": [
      "Введите число\n",
      "6\n",
      "Введите число\n",
      "5\n",
      "Введите число\n",
      "8\n",
      "Введите число\n",
      "7\n",
      "Введите число\n",
      "0\n",
      "26\n"
     ]
    }
   ],
   "source": [
    "# Задание 2 \n",
    "n = 1\n",
    "s = 0\n",
    "while (n > 0) and (n != 0):\n",
    "    print('Введите число')\n",
    "    n = int(input())\n",
    "    s += n\n",
    "print(s)"
   ]
  },
  {
   "cell_type": "code",
   "execution_count": 13,
   "metadata": {},
   "outputs": [
    {
     "name": "stdout",
     "output_type": "stream",
     "text": [
      "Внимание, кто-то может остаться без пары!\n"
     ]
    }
   ],
   "source": [
    "# Задание 3 \n",
    "boys = ['Peter', 'Alex', 'John', 'Arthur', 'Richard', 'Michael']\n",
    "girls = ['Kate', 'Liza', 'Kira', 'Emma','Trisha']\n",
    "if len(boys) != len(girls):\n",
    "    print('Внимание, кто-то может остаться без пары!')\n",
    "else:\n",
    "    boys1 = sorted(boys)\n",
    "    girls1 = sorted(girls)\n",
    "    print('Идеальные пары:')\n",
    "    i = 0\n",
    "    for i in range(len(boys)):\n",
    "        print(boys1[i] + ' и ' + girls1[i])"
   ]
  },
  {
   "cell_type": "code",
   "execution_count": 14,
   "metadata": {},
   "outputs": [
    {
     "name": "stdout",
     "output_type": "stream",
     "text": [
      "Идеальные пары:\n",
      "Alex и Emma\n",
      "Arthur и Kate\n",
      "John и Kira\n",
      "Peter и Liza\n",
      "Richard и Trisha\n"
     ]
    }
   ],
   "source": [
    "# Задание 3 \n",
    "\n",
    "boys = ['Peter', 'Alex', 'John', 'Arthur', 'Richard']\n",
    "girls = ['Kate', 'Liza', 'Kira', 'Emma','Trisha']\n",
    "if len(boys) != len(girls):\n",
    "    print('Внимание, кто-то может остаться без пары!')\n",
    "else:\n",
    "    boys1 = sorted(boys)\n",
    "    girls1 = sorted(girls)\n",
    "    print('Идеальные пары:')\n",
    "    i = 0\n",
    "    for i in range(len(boys)):\n",
    "        print(boys1[i] + ' и ' + girls1[i])"
   ]
  },
  {
   "cell_type": "code",
   "execution_count": 19,
   "metadata": {},
   "outputs": [
    {
     "name": "stdout",
     "output_type": "stream",
     "text": [
      "Средняя температура:\n",
      "Thailand = 23.9\n",
      "Germany = 13.8\n",
      "Russia = 3.7\n",
      "Poland = 12.0\n"
     ]
    }
   ],
   "source": [
    "# Задание 4 \n",
    "countries_temperature = [\n",
    "    ['Thailand', [75.2, 77, 78.8, 73.4, 68, 75.2, 77]],\n",
    "    ['Germany', [57.2, 55.4, 59, 59, 53.6]],\n",
    "    ['Russia', [35.6, 37.4, 39.2, 41, 42.8, 39.2, 35.6]],\n",
    "    ['Poland', [50, 50, 53.6, 57.2, 55.4, 55.4]]\n",
    "]\n",
    "temp = [0, 0, 0, 0]\n",
    "print('Средняя температура:')\n",
    "for i in range(len(countries_temperature)):\n",
    "    tempsr = 0\n",
    "    for j in range(len(countries_temperature[i][1])):\n",
    "        tempsr += countries_temperature[i][1][j]\n",
    "        temp[i] = (tempsr / (len(countries_temperature[i][1])) - 32) * 0.556\n",
    "    print(countries_temperature[i][0] + ' = ' + str(round(temp[i], 1)))"
   ]
  },
  {
   "cell_type": "code",
   "execution_count": 20,
   "metadata": {},
   "outputs": [
    {
     "name": "stdout",
     "output_type": "stream",
     "text": [
      "Среднее количество просмотров на уникального пользователя: 23.25\n"
     ]
    }
   ],
   "source": [
    "# Задание 5 \n",
    "stream = [\n",
    "    '2018-01-01,user1,3',\n",
    "    '2018-01-07,user1,4',\n",
    "    '2018-03-29,user1,1',\n",
    "    '2018-04-04,user1,13',\n",
    "    '2018-01-05,user2,7',\n",
    "    '2018-06-14,user3,4',\n",
    "    '2018-07-02,user3,10',\n",
    "    '2018-03-21,user4,19',\n",
    "    '2018-03-22,user4,4',\n",
    "    '2018-04-22,user4,8',\n",
    "    '2018-05-03,user4,9',\n",
    "    '2018-05-11,user4,11',\n",
    "]\n",
    "k = 'user0'\n",
    "j = 0\n",
    "s = 0\n",
    "for i in range(len(stream)):\n",
    "    s += float(stream[i].split(',')[2])\n",
    "    n = stream[i].split(',')[1]\n",
    "    if n != k:\n",
    "        j += 1\n",
    "        k = n\n",
    "print('Среднее количество просмотров на уникального пользователя:',(round(s/j,2)))"
   ]
  },
  {
   "cell_type": "code",
   "execution_count": 21,
   "metadata": {},
   "outputs": [
    {
     "name": "stdout",
     "output_type": "stream",
     "text": [
      "Среднее количество просмотров на уникального пользователя: 145.33\n"
     ]
    }
   ],
   "source": [
    "# Задание 5 \n",
    "stream = [\n",
    "    '2018-01-01,user100,150',\n",
    "    '2018-01-07,user99,205',\n",
    "    '2018-03-29,user1001,81',\n",
    "]\n",
    "k = 'user0'\n",
    "j = 0\n",
    "s = 0\n",
    "for i in range(len(stream)):\n",
    "    s += float(stream[i].split(',')[2])\n",
    "    n = stream[i].split(',')[1]\n",
    "    if n != k:\n",
    "        j += 1\n",
    "        k = n\n",
    "print('Среднее количество просмотров на уникального пользователя:',(round(s/j,2)))"
   ]
  },
  {
   "cell_type": "code",
   "execution_count": 25,
   "metadata": {},
   "outputs": [
    {
     "name": "stdout",
     "output_type": "stream",
     "text": [
      "Введите цифры через пробел5 4 8 9 5 4 5 4 \n",
      "5 4 "
     ]
    }
   ],
   "source": [
    "# Задание 6 \n",
    "n = input(\"Введите цифры через пробел\")\n",
    "k = [0 for i in range(len(n))]\n",
    "n = n.split(' ')\n",
    "for i in range(len(n)):\n",
    "    for j in range(i+1,len(n)):\n",
    "        if n[i] == n[j]:\n",
    "            k[i] += 1\n",
    "for i in range(len(k)):\n",
    "    if k[i] == 1:\n",
    "        print(n[i],end=' ')"
   ]
  },
  {
   "cell_type": "code",
   "execution_count": null,
   "metadata": {},
   "outputs": [],
   "source": []
  }
 ],
 "metadata": {
  "kernelspec": {
   "display_name": "Python 3",
   "language": "python",
   "name": "python3"
  },
  "language_info": {
   "codemirror_mode": {
    "name": "ipython",
    "version": 3
   },
   "file_extension": ".py",
   "mimetype": "text/x-python",
   "name": "python",
   "nbconvert_exporter": "python",
   "pygments_lexer": "ipython3",
   "version": "3.8.3"
  }
 },
 "nbformat": 4,
 "nbformat_minor": 4
}
